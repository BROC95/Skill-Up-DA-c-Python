{
 "cells": [
  {
   "cell_type": "code",
   "execution_count": 2,
   "id": "cd19a766",
   "metadata": {},
   "outputs": [],
   "source": [
    "import pandas as pd\n",
    "import matplotlib.pyplot as plt \n",
    "from matplotlib.backends.backend_agg import FigureCanvasAgg as FigureCanvas\n",
    "from matplotlib.figure import Figure\n",
    "import numpy as np\n",
    "import seaborn as sns\n",
    "import requests "
   ]
  },
  {
   "cell_type": "code",
   "execution_count": 253,
   "id": "f2703e2e",
   "metadata": {},
   "outputs": [],
   "source": [
    "import random\n",
    "def hexAl():\n",
    "    color = [\"#\"+''.join([random.choice('0123456789ABCDEF') for j in range(6)])]\n",
    "#     print(color)\n",
    "    return color[0]\n",
    "def grafLocation(df):\n",
    "    corrloc =df.groupby(df.location).count()\n",
    "    c4=corrloc.university>5\n",
    "    n =corrloc[c4]\n",
    "    colores = [hexAl() for i in range(len(n))]\n",
    "    corrloc[c4].university.plot(kind=\"bar\", color = colores,fontsize=20)\n",
    "    plt.title(f'Inscription by {df.location.name} > 5 in {df.university[0]}', fontsize=15)\n",
    "    plt.show()\n",
    "    ma= corrloc[c4]\n",
    "    ma.index\n",
    "    ma.max()\n",
    "    f =ma.age == ma.age.max()\n",
    "    name_L=ma[f].index[0]\n",
    "    loca =df1.location == ma[f].index[0]\n",
    "    grupoL =df1[loca]\n",
    "    N = len(grupoL)\n",
    "    colores = [hexAl() for i in range(N)]\n",
    "    grupoL.university.groupby(grupoL.inscmonth).count().plot(kind=\"bar\",color = colores,fontsize=20)\n",
    "    plt.title(f'Inscription by {df.location.name} > 5 in {df.university[0]} by {df.inscmonth.name}', fontsize=15)\n",
    "    plt.show()\n",
    "    grafBar(grupoL.career, name_L)\n",
    "    grafBar(grupoL.age, name_L)\n",
    "    grafBox(grupoL.gender,grupoL.age, name_L)\n",
    "    grafPie(grupoL,grupoL.age, name_L)\n",
    "    grafPie(grupoL,grupoL.gender, name_L)\n",
    "    grafPie(grupoL,grupoL.career, name_L)\n",
    "    graf3Rel(grupoL,grupoL.career,grupoL.age,grupoL.gender)\n",
    "    \n",
    "    \n",
    "    \n",
    "def grafPie(dfD,dfg,location=\"\"):\n",
    "    total_precio = dfD.groupby(dfg).count()\n",
    "    colors = sns.color_palette('pastel')[0:6]\n",
    "    co = total_precio.columns[0]\n",
    "    plt.pie(total_precio[co],labels=total_precio.index, colors = colors,\n",
    "    autopct='%.0f%%')\n",
    "    plt.title(f\"Inscription by {dfg.name}: {location}\")\n",
    "    plt.show()\n",
    "\n",
    "#     total_precio = dfD.groupby(dfg).count()\n",
    "#     print(total_precio)\n",
    "#     etiquetas = total_precio.index()\n",
    "# #     print()\n",
    "#     colors = sns.color_palette('pastel')[0:6]\n",
    "#     plt.pie(total_precio, labels = etiquetas, colors = colors,\n",
    "#     autopct='%.0f%%')\n",
    "#     plt.title(f\"Inscription by {dfg.name}: {location}\")\n",
    "#     plt.show()\n",
    " \n",
    "\n",
    "    \n",
    "def grafBar(data,location=\"\"):\n",
    "    fig = plt.figure(figsize = (10,5))\n",
    "    plt.title(f\"Inscription by {data.name}: {location}\")\n",
    "    sns.countplot(data, order = data.value_counts().index)\n",
    "    plt.xticks(rotation=90)\n",
    "    plt.show()\n",
    "\n",
    "\n",
    "    \n",
    "def graf3Rel(df,xd,yd,zd):\n",
    "    \n",
    "    sns.relplot(x=xd ,y=yd,hue=zd,data=df)\n",
    "    plt.title(f\"Inscription by {df.university.unique()[0]}\")\n",
    "    plt.xticks(rotation=90)\n",
    "    plt.show()\n",
    "\n",
    "    \n",
    "def grafBox(var1,var2, location=\"\"):\n",
    "    plt.title(f\"Inscription by {var1.name}:{var2.name}:{location}\")\n",
    "    sns.boxplot(x=var1,y=var2)\n",
    "    plt.xticks(rotation=90)\n",
    "    plt.show()\n",
    "    \n",
    "    \n",
    "def url_todf(url):\n",
    "    df = pd.read_html(url)\n",
    "    df =df[0][1]\n",
    "    df =df.str.split(\"\\t\")\n",
    "    li =df.to_list()\n",
    "    df1 = pd.DataFrame(li[1:],columns=li[0])\n",
    "    return df1"
   ]
  },
  {
   "cell_type": "code",
   "execution_count": 506,
   "id": "596e9b46",
   "metadata": {},
   "outputs": [],
   "source": [
    "url1 = \"https://github.com/dipaolme/Skill-Up-DA-c-Python/blob/grupoB/datasets/GBUNComahue_process.txt\"\n",
    "url2 = \"https://github.com/dipaolme/Skill-Up-DA-c-Python/blob/grupoB/datasets/GBUNSalvador_process.txt\"\n",
    "\n",
    "df1 = url_todf(url1)\n",
    "# df2 = url_todf(url2)\n",
    "cel =pd.read_html(url)\n",
    "\n",
    "df =cel[0][1]"
   ]
  },
  {
   "cell_type": "code",
   "execution_count": 53,
   "id": "44d020b7",
   "metadata": {},
   "outputs": [
    {
     "data": {
      "text/plain": [
       "0                 licenciatura  en  psicología\n",
       "1                                     farmacia\n",
       "2                                     medicina\n",
       "3                                     medicina\n",
       "4          licenciatura  en  ciencia  política\n",
       "                         ...                  \n",
       "1826                  técnico  para  bioterios\n",
       "1827    licenciatura  en  ciencias  biológicas\n",
       "1828                   licenciatura  en  artes\n",
       "1829                        diseño  industrial\n",
       "1830                                 agronomía\n",
       "Name: career, Length: 1831, dtype: object"
      ]
     },
     "execution_count": 53,
     "metadata": {},
     "output_type": "execute_result"
    }
   ],
   "source": [
    "data =\"GBUNComahue_process.txt\"\n",
    "\n",
    "df = pd.read_csv(data,sep=\"\\t\")\n",
    "\n",
    "\n",
    "df.career"
   ]
  },
  {
   "cell_type": "code",
   "execution_count": 59,
   "id": "332aa83a",
   "metadata": {},
   "outputs": [
    {
     "data": {
      "text/plain": [
       "'técnico  para  bioterios'"
      ]
     },
     "execution_count": 59,
     "metadata": {},
     "output_type": "execute_result"
    }
   ],
   "source": [
    "df.career[5]"
   ]
  },
  {
   "cell_type": "code",
   "execution_count": 42,
   "id": "56b94ecc",
   "metadata": {},
   "outputs": [],
   "source": [
    "def rnam(df):\n",
    "    f=\" \".join(df)\n",
    "    return f\n",
    "\n",
    "dg = df.career.str.split()\n",
    "dg.apply(rnam)"
   ]
  },
  {
   "cell_type": "code",
   "execution_count": 51,
   "id": "528ea742",
   "metadata": {},
   "outputs": [
    {
     "data": {
      "text/plain": [
       "0                licenciatura en psicología\n",
       "1                                  farmacia\n",
       "2                                  medicina\n",
       "3                                  medicina\n",
       "4          licenciatura en ciencia política\n",
       "                       ...                 \n",
       "1826                 técnico para bioterios\n",
       "1827    licenciatura en ciencias biológicas\n",
       "1828                  licenciatura en artes\n",
       "1829                      diseño industrial\n",
       "1830                              agronomía\n",
       "Name: career, Length: 1831, dtype: object"
      ]
     },
     "execution_count": 51,
     "metadata": {},
     "output_type": "execute_result"
    }
   ],
   "source": []
  },
  {
   "cell_type": "code",
   "execution_count": 464,
   "id": "616a817b",
   "metadata": {},
   "outputs": [
    {
     "data": {
      "text/plain": [
       "1832"
      ]
     },
     "execution_count": 464,
     "metadata": {},
     "output_type": "execute_result"
    }
   ],
   "source": [
    "dc =df.str.split(\"\\t\")\n",
    "\n",
    "n =len(dc[0])\n",
    "\n",
    "len(dc)"
   ]
  },
  {
   "cell_type": "code",
   "execution_count": 352,
   "id": "8c73a8a3",
   "metadata": {},
   "outputs": [],
   "source": [
    "# fil = df1.apply(len)\n"
   ]
  },
  {
   "cell_type": "code",
   "execution_count": 465,
   "id": "31ffdac6",
   "metadata": {},
   "outputs": [],
   "source": [
    "fil =dc.apply(len)<10\n",
    "\n",
    "\n",
    "gg =dc[fil]"
   ]
  },
  {
   "cell_type": "code",
   "execution_count": 470,
   "id": "a5b5f655",
   "metadata": {},
   "outputs": [],
   "source": [
    "# def concatDat(dat):\n",
    "#     dat =dat.split('_')\n",
    "#     cadena = \"\"\n",
    "#     for i in dat:\n",
    "#         cadena =cadena+\" \"+i\n",
    "#         i = cadena    \n",
    "#     return cadena[1:]\n",
    "\n",
    "inds =gg.index"
   ]
  },
  {
   "cell_type": "code",
   "execution_count": 519,
   "id": "14cf6fe4",
   "metadata": {},
   "outputs": [],
   "source": [
    "def ext(da):\n",
    "    dat = da[:-1]\n",
    "#     cadena\n",
    "    cadena =\" \".join(dat)\n",
    "    return cadena,da[-1]"
   ]
  },
  {
   "cell_type": "code",
   "execution_count": 496,
   "id": "86ed717f",
   "metadata": {},
   "outputs": [
    {
     "data": {
      "text/plain": [
       "' licenciatura en ciencia política'"
      ]
     },
     "execution_count": 496,
     "metadata": {},
     "output_type": "execute_result"
    }
   ],
   "source": [
    "dat =sep[0]\n",
    "\n",
    "\n",
    "cadena"
   ]
  },
  {
   "cell_type": "code",
   "execution_count": 521,
   "id": "92e58d20",
   "metadata": {},
   "outputs": [
    {
     "data": {
      "text/plain": [
       "5       (licenciatura en ciencia política, 2020-09-01)\n",
       "6                 (técnico para bioterios, 2020-09-01)\n",
       "7             (licenciatura en sociología, 2020-09-01)\n",
       "11        (licenciatura en administración, 2020-09-02)\n",
       "12                      (contador público, 2020-09-02)\n",
       "                             ...                      \n",
       "1806      (licenciatura en administración, 2021-01-30)\n",
       "1817    (licenciatura en ciencia política, 2021-01-31)\n",
       "1819    (licenciatura en ciencia política, 2021-01-31)\n",
       "1820          (licenciatura en sociología, 2021-01-31)\n",
       "1827              (técnico para bioterios, 2021-02-01)\n",
       "Name: 1, Length: 437, dtype: object"
      ]
     },
     "execution_count": 521,
     "metadata": {},
     "output_type": "execute_result"
    }
   ],
   "source": [
    "fil=pd.DataFrame(gg.to_list())\n",
    "\n",
    "sep =fil[1].str.split()\n",
    "\n",
    "# \"2\"+sep[0][1]\n",
    "sep[0][:-1]\n",
    "\n",
    "#  ata[\"Name\"].str.cat(new, sep =\", \")\n",
    "    \n",
    "fechas =sep.apply(ext)\n",
    "fechas.index = inds\n",
    "fechas"
   ]
  },
  {
   "cell_type": "code",
   "execution_count": 518,
   "id": "1ecbb903",
   "metadata": {},
   "outputs": [],
   "source": [
    "fechas\n",
    "\n",
    "\n",
    "cp =pd.DataFrame(gg.to_list())"
   ]
  },
  {
   "cell_type": "code",
   "execution_count": 507,
   "id": "bd839746",
   "metadata": {},
   "outputs": [
    {
     "data": {
      "text/html": [
       "<div>\n",
       "<style scoped>\n",
       "    .dataframe tbody tr th:only-of-type {\n",
       "        vertical-align: middle;\n",
       "    }\n",
       "\n",
       "    .dataframe tbody tr th {\n",
       "        vertical-align: top;\n",
       "    }\n",
       "\n",
       "    .dataframe thead th {\n",
       "        text-align: right;\n",
       "    }\n",
       "</style>\n",
       "<table border=\"1\" class=\"dataframe\">\n",
       "  <thead>\n",
       "    <tr style=\"text-align: right;\">\n",
       "      <th></th>\n",
       "      <th>university</th>\n",
       "      <th>career</th>\n",
       "      <th>inscription_date</th>\n",
       "      <th>first_name</th>\n",
       "      <th>last_name</th>\n",
       "      <th>gender</th>\n",
       "      <th>age</th>\n",
       "      <th>postal_code</th>\n",
       "      <th>location</th>\n",
       "      <th>email</th>\n",
       "    </tr>\n",
       "  </thead>\n",
       "  <tbody>\n",
       "    <tr>\n",
       "      <th>0</th>\n",
       "      <td>univ. nacional del comahue</td>\n",
       "      <td>licenciatura en psicología</td>\n",
       "      <td>2020-09-01</td>\n",
       "      <td>gregory</td>\n",
       "      <td>howell</td>\n",
       "      <td>male</td>\n",
       "      <td>35</td>\n",
       "      <td>5315</td>\n",
       "      <td>calera la norma</td>\n",
       "      <td>frankalexandra@yahoo.com</td>\n",
       "    </tr>\n",
       "    <tr>\n",
       "      <th>1</th>\n",
       "      <td>univ. nacional del comahue</td>\n",
       "      <td>farmacia</td>\n",
       "      <td>2020-09-01</td>\n",
       "      <td>tasha</td>\n",
       "      <td>brown</td>\n",
       "      <td>female</td>\n",
       "      <td>37</td>\n",
       "      <td>8305</td>\n",
       "      <td>aguada san roque</td>\n",
       "      <td>tedwards@gmail.com</td>\n",
       "    </tr>\n",
       "    <tr>\n",
       "      <th>2</th>\n",
       "      <td>univ. nacional del comahue</td>\n",
       "      <td>medicina</td>\n",
       "      <td>2020-09-01</td>\n",
       "      <td>ian</td>\n",
       "      <td>taylor</td>\n",
       "      <td>male</td>\n",
       "      <td>39</td>\n",
       "      <td>3428</td>\n",
       "      <td>estacion saladas</td>\n",
       "      <td>richard76@gmail.com</td>\n",
       "    </tr>\n",
       "    <tr>\n",
       "      <th>3</th>\n",
       "      <td>univ. nacional del comahue</td>\n",
       "      <td>medicina</td>\n",
       "      <td>2020-09-01</td>\n",
       "      <td>mark</td>\n",
       "      <td>sanchez</td>\n",
       "      <td>male</td>\n",
       "      <td>20</td>\n",
       "      <td>5873</td>\n",
       "      <td>isla</td>\n",
       "      <td>oduffy@yahoo.com</td>\n",
       "    </tr>\n",
       "    <tr>\n",
       "      <th>4</th>\n",
       "      <td>univ. nacional del comahue</td>\n",
       "      <td>licenciatura en ciencia política 2020-09-01</td>\n",
       "      <td>sherri</td>\n",
       "      <td>carter</td>\n",
       "      <td>female</td>\n",
       "      <td>29</td>\n",
       "      <td>1765</td>\n",
       "      <td>isidro casanova</td>\n",
       "      <td>fosterchase@gmail.com</td>\n",
       "      <td>None</td>\n",
       "    </tr>\n",
       "    <tr>\n",
       "      <th>...</th>\n",
       "      <td>...</td>\n",
       "      <td>...</td>\n",
       "      <td>...</td>\n",
       "      <td>...</td>\n",
       "      <td>...</td>\n",
       "      <td>...</td>\n",
       "      <td>...</td>\n",
       "      <td>...</td>\n",
       "      <td>...</td>\n",
       "      <td>...</td>\n",
       "    </tr>\n",
       "    <tr>\n",
       "      <th>1826</th>\n",
       "      <td>univ. nacional del comahue</td>\n",
       "      <td>técnico para bioterios 2021-02-01</td>\n",
       "      <td>keith</td>\n",
       "      <td>richardson</td>\n",
       "      <td>male</td>\n",
       "      <td>19</td>\n",
       "      <td>3466</td>\n",
       "      <td>abalo</td>\n",
       "      <td>kingjoseph@yahoo.com</td>\n",
       "      <td>None</td>\n",
       "    </tr>\n",
       "    <tr>\n",
       "      <th>1827</th>\n",
       "      <td>univ. nacional del comahue</td>\n",
       "      <td>licenciatura en ciencias biológicas</td>\n",
       "      <td>2021-02-01</td>\n",
       "      <td>richard</td>\n",
       "      <td>robles</td>\n",
       "      <td>male</td>\n",
       "      <td>37</td>\n",
       "      <td>8324</td>\n",
       "      <td>cipolletti</td>\n",
       "      <td>kylegraham@hotmail.com</td>\n",
       "    </tr>\n",
       "    <tr>\n",
       "      <th>1828</th>\n",
       "      <td>univ. nacional del comahue</td>\n",
       "      <td>licenciatura en artes</td>\n",
       "      <td>2021-02-01</td>\n",
       "      <td>stephanie</td>\n",
       "      <td>williams</td>\n",
       "      <td>female</td>\n",
       "      <td>35</td>\n",
       "      <td>5471</td>\n",
       "      <td>agua blanca</td>\n",
       "      <td>jvaldez@hotmail.com</td>\n",
       "    </tr>\n",
       "    <tr>\n",
       "      <th>1829</th>\n",
       "      <td>univ. nacional del comahue</td>\n",
       "      <td>diseño industrial</td>\n",
       "      <td>2021-02-01</td>\n",
       "      <td>jennifer</td>\n",
       "      <td>cohen</td>\n",
       "      <td>female</td>\n",
       "      <td>38</td>\n",
       "      <td>4157</td>\n",
       "      <td>arroyo mal paso</td>\n",
       "      <td>rramirez@hotmail.com</td>\n",
       "    </tr>\n",
       "    <tr>\n",
       "      <th>1830</th>\n",
       "      <td>univ. nacional del comahue</td>\n",
       "      <td>agronomía</td>\n",
       "      <td>2021-02-01</td>\n",
       "      <td>paul</td>\n",
       "      <td>byrd</td>\n",
       "      <td>male</td>\n",
       "      <td>31</td>\n",
       "      <td>1746</td>\n",
       "      <td>francisco alvarez</td>\n",
       "      <td>sheila73@yahoo.com</td>\n",
       "    </tr>\n",
       "  </tbody>\n",
       "</table>\n",
       "<p>1831 rows × 10 columns</p>\n",
       "</div>"
      ],
      "text/plain": [
       "                      university                                       career  \\\n",
       "0     univ. nacional del comahue                   licenciatura en psicología   \n",
       "1     univ. nacional del comahue                                     farmacia   \n",
       "2     univ. nacional del comahue                                     medicina   \n",
       "3     univ. nacional del comahue                                     medicina   \n",
       "4     univ. nacional del comahue  licenciatura en ciencia política 2020-09-01   \n",
       "...                          ...                                          ...   \n",
       "1826  univ. nacional del comahue            técnico para bioterios 2021-02-01   \n",
       "1827  univ. nacional del comahue          licenciatura en ciencias biológicas   \n",
       "1828  univ. nacional del comahue                        licenciatura en artes   \n",
       "1829  univ. nacional del comahue                            diseño industrial   \n",
       "1830  univ. nacional del comahue                                    agronomía   \n",
       "\n",
       "     inscription_date  first_name last_name  gender   age      postal_code  \\\n",
       "0          2020-09-01     gregory    howell    male    35             5315   \n",
       "1          2020-09-01       tasha     brown  female    37             8305   \n",
       "2          2020-09-01         ian    taylor    male    39             3428   \n",
       "3          2020-09-01        mark   sanchez    male    20             5873   \n",
       "4              sherri      carter    female      29  1765  isidro casanova   \n",
       "...               ...         ...       ...     ...   ...              ...   \n",
       "1826            keith  richardson      male      19  3466            abalo   \n",
       "1827       2021-02-01     richard    robles    male    37             8324   \n",
       "1828       2021-02-01   stephanie  williams  female    35             5471   \n",
       "1829       2021-02-01    jennifer     cohen  female    38             4157   \n",
       "1830       2021-02-01        paul      byrd    male    31             1746   \n",
       "\n",
       "                   location                     email  \n",
       "0           calera la norma  frankalexandra@yahoo.com  \n",
       "1          aguada san roque        tedwards@gmail.com  \n",
       "2          estacion saladas       richard76@gmail.com  \n",
       "3                      isla          oduffy@yahoo.com  \n",
       "4     fosterchase@gmail.com                      None  \n",
       "...                     ...                       ...  \n",
       "1826   kingjoseph@yahoo.com                      None  \n",
       "1827             cipolletti    kylegraham@hotmail.com  \n",
       "1828            agua blanca       jvaldez@hotmail.com  \n",
       "1829        arroyo mal paso      rramirez@hotmail.com  \n",
       "1830      francisco alvarez        sheila73@yahoo.com  \n",
       "\n",
       "[1831 rows x 10 columns]"
      ]
     },
     "execution_count": 507,
     "metadata": {},
     "output_type": "execute_result"
    }
   ],
   "source": [
    "df1"
   ]
  },
  {
   "cell_type": "code",
   "execution_count": 505,
   "id": "2acd2b9d",
   "metadata": {},
   "outputs": [
    {
     "data": {
      "text/plain": [
       "['university',\n",
       " 'career',\n",
       " 'inscription_date',\n",
       " 'first_name',\n",
       " 'last_name',\n",
       " 'gender',\n",
       " 'age',\n",
       " 'postal_code',\n",
       " 'location',\n",
       " 'email']"
      ]
     },
     "execution_count": 505,
     "metadata": {},
     "output_type": "execute_result"
    }
   ],
   "source": []
  },
  {
   "cell_type": "code",
   "execution_count": 257,
   "id": "a344a955",
   "metadata": {},
   "outputs": [],
   "source": [
    "# "
   ]
  },
  {
   "cell_type": "code",
   "execution_count": null,
   "id": "06735aff",
   "metadata": {},
   "outputs": [],
   "source": []
  },
  {
   "cell_type": "code",
   "execution_count": null,
   "id": "c5adec6d",
   "metadata": {},
   "outputs": [],
   "source": []
  },
  {
   "cell_type": "code",
   "execution_count": null,
   "id": "8edc39d1",
   "metadata": {},
   "outputs": [],
   "source": []
  },
  {
   "cell_type": "code",
   "execution_count": 258,
   "id": "4d6b5492",
   "metadata": {},
   "outputs": [],
   "source": [
    "df1 = df1.copy()\n",
    "df2 = df2.copy()"
   ]
  },
  {
   "cell_type": "code",
   "execution_count": 259,
   "id": "4491ad1d",
   "metadata": {},
   "outputs": [
    {
     "ename": "ValueError",
     "evalue": "time data sherri doesn't match format specified",
     "output_type": "error",
     "traceback": [
      "\u001b[1;31m---------------------------------------------------------------------------\u001b[0m",
      "\u001b[1;31mTypeError\u001b[0m                                 Traceback (most recent call last)",
      "\u001b[1;32m~\\AppData\\Roaming\\Python\\Python38\\site-packages\\pandas\\core\\arrays\\datetimes.py\u001b[0m in \u001b[0;36mobjects_to_datetime64ns\u001b[1;34m(data, dayfirst, yearfirst, utc, errors, require_iso8601, allow_object)\u001b[0m\n\u001b[0;32m   2084\u001b[0m         \u001b[1;32mtry\u001b[0m\u001b[1;33m:\u001b[0m\u001b[1;33m\u001b[0m\u001b[1;33m\u001b[0m\u001b[0m\n\u001b[1;32m-> 2085\u001b[1;33m             \u001b[0mvalues\u001b[0m\u001b[1;33m,\u001b[0m \u001b[0mtz_parsed\u001b[0m \u001b[1;33m=\u001b[0m \u001b[0mconversion\u001b[0m\u001b[1;33m.\u001b[0m\u001b[0mdatetime_to_datetime64\u001b[0m\u001b[1;33m(\u001b[0m\u001b[0mdata\u001b[0m\u001b[1;33m)\u001b[0m\u001b[1;33m\u001b[0m\u001b[1;33m\u001b[0m\u001b[0m\n\u001b[0m\u001b[0;32m   2086\u001b[0m             \u001b[1;31m# If tzaware, these values represent unix timestamps, so we\u001b[0m\u001b[1;33m\u001b[0m\u001b[1;33m\u001b[0m\u001b[1;33m\u001b[0m\u001b[0m\n",
      "\u001b[1;32mpandas\\_libs\\tslibs\\conversion.pyx\u001b[0m in \u001b[0;36mpandas._libs.tslibs.conversion.datetime_to_datetime64\u001b[1;34m()\u001b[0m\n",
      "\u001b[1;31mTypeError\u001b[0m: Unrecognized value type: <class 'str'>",
      "\nDuring handling of the above exception, another exception occurred:\n",
      "\u001b[1;31mValueError\u001b[0m                                Traceback (most recent call last)",
      "\u001b[1;32m<ipython-input-259-05efb5cb553a>\u001b[0m in \u001b[0;36m<module>\u001b[1;34m\u001b[0m\n\u001b[0;32m      2\u001b[0m \u001b[1;33m\u001b[0m\u001b[0m\n\u001b[0;32m      3\u001b[0m \u001b[1;31m# dfk = pd.DataFrame(pd.date_range('2000-01-02', freq='1M', periods=15), columns=['Date'])\u001b[0m\u001b[1;33m\u001b[0m\u001b[1;33m\u001b[0m\u001b[1;33m\u001b[0m\u001b[0m\n\u001b[1;32m----> 4\u001b[1;33m \u001b[0mdf1\u001b[0m\u001b[1;33m.\u001b[0m\u001b[0minscription_date\u001b[0m \u001b[1;33m=\u001b[0m\u001b[0mpd\u001b[0m\u001b[1;33m.\u001b[0m\u001b[0mto_datetime\u001b[0m\u001b[1;33m(\u001b[0m\u001b[0mdf1\u001b[0m\u001b[1;33m[\u001b[0m\u001b[1;34m'inscription_date'\u001b[0m\u001b[1;33m]\u001b[0m\u001b[1;33m,\u001b[0m \u001b[0mformat\u001b[0m\u001b[1;33m=\u001b[0m\u001b[1;34m'%Y-%m-%d'\u001b[0m\u001b[1;33m)\u001b[0m\u001b[1;33m\u001b[0m\u001b[1;33m\u001b[0m\u001b[0m\n\u001b[0m\u001b[0;32m      5\u001b[0m \u001b[0mbins_dt\u001b[0m \u001b[1;33m=\u001b[0m \u001b[0mpd\u001b[0m\u001b[1;33m.\u001b[0m\u001b[0mdate_range\u001b[0m\u001b[1;33m(\u001b[0m\u001b[1;34m'2020-08-01'\u001b[0m \u001b[1;33m,\u001b[0m \u001b[0mfreq\u001b[0m\u001b[1;33m=\u001b[0m\u001b[1;34m'1M'\u001b[0m\u001b[1;33m,\u001b[0m \u001b[0mperiods\u001b[0m\u001b[1;33m=\u001b[0m\u001b[1;36m7\u001b[0m\u001b[1;33m)\u001b[0m\u001b[1;33m\u001b[0m\u001b[1;33m\u001b[0m\u001b[0m\n\u001b[0;32m      6\u001b[0m \u001b[0mbins_str\u001b[0m \u001b[1;33m=\u001b[0m \u001b[0mbins_dt\u001b[0m\u001b[1;33m.\u001b[0m\u001b[0mastype\u001b[0m\u001b[1;33m(\u001b[0m\u001b[0mstr\u001b[0m\u001b[1;33m)\u001b[0m\u001b[1;33m.\u001b[0m\u001b[0mvalues\u001b[0m\u001b[1;33m\u001b[0m\u001b[1;33m\u001b[0m\u001b[0m\n",
      "\u001b[1;32m~\\AppData\\Roaming\\Python\\Python38\\site-packages\\pandas\\core\\tools\\datetimes.py\u001b[0m in \u001b[0;36mto_datetime\u001b[1;34m(arg, errors, dayfirst, yearfirst, utc, format, exact, unit, infer_datetime_format, origin, cache)\u001b[0m\n\u001b[0;32m    799\u001b[0m                 \u001b[0mresult\u001b[0m \u001b[1;33m=\u001b[0m \u001b[0mresult\u001b[0m\u001b[1;33m.\u001b[0m\u001b[0mtz_localize\u001b[0m\u001b[1;33m(\u001b[0m\u001b[0mtz\u001b[0m\u001b[1;33m)\u001b[0m\u001b[1;33m\u001b[0m\u001b[1;33m\u001b[0m\u001b[0m\n\u001b[0;32m    800\u001b[0m     \u001b[1;32melif\u001b[0m \u001b[0misinstance\u001b[0m\u001b[1;33m(\u001b[0m\u001b[0marg\u001b[0m\u001b[1;33m,\u001b[0m \u001b[0mABCSeries\u001b[0m\u001b[1;33m)\u001b[0m\u001b[1;33m:\u001b[0m\u001b[1;33m\u001b[0m\u001b[1;33m\u001b[0m\u001b[0m\n\u001b[1;32m--> 801\u001b[1;33m         \u001b[0mcache_array\u001b[0m \u001b[1;33m=\u001b[0m \u001b[0m_maybe_cache\u001b[0m\u001b[1;33m(\u001b[0m\u001b[0marg\u001b[0m\u001b[1;33m,\u001b[0m \u001b[0mformat\u001b[0m\u001b[1;33m,\u001b[0m \u001b[0mcache\u001b[0m\u001b[1;33m,\u001b[0m \u001b[0mconvert_listlike\u001b[0m\u001b[1;33m)\u001b[0m\u001b[1;33m\u001b[0m\u001b[1;33m\u001b[0m\u001b[0m\n\u001b[0m\u001b[0;32m    802\u001b[0m         \u001b[1;32mif\u001b[0m \u001b[1;32mnot\u001b[0m \u001b[0mcache_array\u001b[0m\u001b[1;33m.\u001b[0m\u001b[0mempty\u001b[0m\u001b[1;33m:\u001b[0m\u001b[1;33m\u001b[0m\u001b[1;33m\u001b[0m\u001b[0m\n\u001b[0;32m    803\u001b[0m             \u001b[0mresult\u001b[0m \u001b[1;33m=\u001b[0m \u001b[0marg\u001b[0m\u001b[1;33m.\u001b[0m\u001b[0mmap\u001b[0m\u001b[1;33m(\u001b[0m\u001b[0mcache_array\u001b[0m\u001b[1;33m)\u001b[0m\u001b[1;33m\u001b[0m\u001b[1;33m\u001b[0m\u001b[0m\n",
      "\u001b[1;32m~\\AppData\\Roaming\\Python\\Python38\\site-packages\\pandas\\core\\tools\\datetimes.py\u001b[0m in \u001b[0;36m_maybe_cache\u001b[1;34m(arg, format, cache, convert_listlike)\u001b[0m\n\u001b[0;32m    176\u001b[0m         \u001b[0munique_dates\u001b[0m \u001b[1;33m=\u001b[0m \u001b[0munique\u001b[0m\u001b[1;33m(\u001b[0m\u001b[0marg\u001b[0m\u001b[1;33m)\u001b[0m\u001b[1;33m\u001b[0m\u001b[1;33m\u001b[0m\u001b[0m\n\u001b[0;32m    177\u001b[0m         \u001b[1;32mif\u001b[0m \u001b[0mlen\u001b[0m\u001b[1;33m(\u001b[0m\u001b[0munique_dates\u001b[0m\u001b[1;33m)\u001b[0m \u001b[1;33m<\u001b[0m \u001b[0mlen\u001b[0m\u001b[1;33m(\u001b[0m\u001b[0marg\u001b[0m\u001b[1;33m)\u001b[0m\u001b[1;33m:\u001b[0m\u001b[1;33m\u001b[0m\u001b[1;33m\u001b[0m\u001b[0m\n\u001b[1;32m--> 178\u001b[1;33m             \u001b[0mcache_dates\u001b[0m \u001b[1;33m=\u001b[0m \u001b[0mconvert_listlike\u001b[0m\u001b[1;33m(\u001b[0m\u001b[0munique_dates\u001b[0m\u001b[1;33m,\u001b[0m \u001b[0mformat\u001b[0m\u001b[1;33m)\u001b[0m\u001b[1;33m\u001b[0m\u001b[1;33m\u001b[0m\u001b[0m\n\u001b[0m\u001b[0;32m    179\u001b[0m             \u001b[0mcache_array\u001b[0m \u001b[1;33m=\u001b[0m \u001b[0mSeries\u001b[0m\u001b[1;33m(\u001b[0m\u001b[0mcache_dates\u001b[0m\u001b[1;33m,\u001b[0m \u001b[0mindex\u001b[0m\u001b[1;33m=\u001b[0m\u001b[0munique_dates\u001b[0m\u001b[1;33m)\u001b[0m\u001b[1;33m\u001b[0m\u001b[1;33m\u001b[0m\u001b[0m\n\u001b[0;32m    180\u001b[0m     \u001b[1;32mreturn\u001b[0m \u001b[0mcache_array\u001b[0m\u001b[1;33m\u001b[0m\u001b[1;33m\u001b[0m\u001b[0m\n",
      "\u001b[1;32m~\\AppData\\Roaming\\Python\\Python38\\site-packages\\pandas\\core\\tools\\datetimes.py\u001b[0m in \u001b[0;36m_convert_listlike_datetimes\u001b[1;34m(arg, format, name, tz, unit, errors, infer_datetime_format, dayfirst, yearfirst, exact)\u001b[0m\n\u001b[0;32m    463\u001b[0m         \u001b[1;32massert\u001b[0m \u001b[0mformat\u001b[0m \u001b[1;32mis\u001b[0m \u001b[1;32mNone\u001b[0m \u001b[1;32mor\u001b[0m \u001b[0minfer_datetime_format\u001b[0m\u001b[1;33m\u001b[0m\u001b[1;33m\u001b[0m\u001b[0m\n\u001b[0;32m    464\u001b[0m         \u001b[0mutc\u001b[0m \u001b[1;33m=\u001b[0m \u001b[0mtz\u001b[0m \u001b[1;33m==\u001b[0m \u001b[1;34m\"utc\"\u001b[0m\u001b[1;33m\u001b[0m\u001b[1;33m\u001b[0m\u001b[0m\n\u001b[1;32m--> 465\u001b[1;33m         result, tz_parsed = objects_to_datetime64ns(\n\u001b[0m\u001b[0;32m    466\u001b[0m             \u001b[0marg\u001b[0m\u001b[1;33m,\u001b[0m\u001b[1;33m\u001b[0m\u001b[1;33m\u001b[0m\u001b[0m\n\u001b[0;32m    467\u001b[0m             \u001b[0mdayfirst\u001b[0m\u001b[1;33m=\u001b[0m\u001b[0mdayfirst\u001b[0m\u001b[1;33m,\u001b[0m\u001b[1;33m\u001b[0m\u001b[1;33m\u001b[0m\u001b[0m\n",
      "\u001b[1;32m~\\AppData\\Roaming\\Python\\Python38\\site-packages\\pandas\\core\\arrays\\datetimes.py\u001b[0m in \u001b[0;36mobjects_to_datetime64ns\u001b[1;34m(data, dayfirst, yearfirst, utc, errors, require_iso8601, allow_object)\u001b[0m\n\u001b[0;32m   2088\u001b[0m             \u001b[1;32mreturn\u001b[0m \u001b[0mvalues\u001b[0m\u001b[1;33m.\u001b[0m\u001b[0mview\u001b[0m\u001b[1;33m(\u001b[0m\u001b[1;34m\"i8\"\u001b[0m\u001b[1;33m)\u001b[0m\u001b[1;33m,\u001b[0m \u001b[0mtz_parsed\u001b[0m\u001b[1;33m\u001b[0m\u001b[1;33m\u001b[0m\u001b[0m\n\u001b[0;32m   2089\u001b[0m         \u001b[1;32mexcept\u001b[0m \u001b[1;33m(\u001b[0m\u001b[0mValueError\u001b[0m\u001b[1;33m,\u001b[0m \u001b[0mTypeError\u001b[0m\u001b[1;33m)\u001b[0m\u001b[1;33m:\u001b[0m\u001b[1;33m\u001b[0m\u001b[1;33m\u001b[0m\u001b[0m\n\u001b[1;32m-> 2090\u001b[1;33m             \u001b[1;32mraise\u001b[0m \u001b[0me\u001b[0m\u001b[1;33m\u001b[0m\u001b[1;33m\u001b[0m\u001b[0m\n\u001b[0m\u001b[0;32m   2091\u001b[0m \u001b[1;33m\u001b[0m\u001b[0m\n\u001b[0;32m   2092\u001b[0m     \u001b[1;32mif\u001b[0m \u001b[0mtz_parsed\u001b[0m \u001b[1;32mis\u001b[0m \u001b[1;32mnot\u001b[0m \u001b[1;32mNone\u001b[0m\u001b[1;33m:\u001b[0m\u001b[1;33m\u001b[0m\u001b[1;33m\u001b[0m\u001b[0m\n",
      "\u001b[1;32m~\\AppData\\Roaming\\Python\\Python38\\site-packages\\pandas\\core\\arrays\\datetimes.py\u001b[0m in \u001b[0;36mobjects_to_datetime64ns\u001b[1;34m(data, dayfirst, yearfirst, utc, errors, require_iso8601, allow_object)\u001b[0m\n\u001b[0;32m   2073\u001b[0m \u001b[1;33m\u001b[0m\u001b[0m\n\u001b[0;32m   2074\u001b[0m     \u001b[1;32mtry\u001b[0m\u001b[1;33m:\u001b[0m\u001b[1;33m\u001b[0m\u001b[1;33m\u001b[0m\u001b[0m\n\u001b[1;32m-> 2075\u001b[1;33m         result, tz_parsed = tslib.array_to_datetime(\n\u001b[0m\u001b[0;32m   2076\u001b[0m             \u001b[0mdata\u001b[0m\u001b[1;33m,\u001b[0m\u001b[1;33m\u001b[0m\u001b[1;33m\u001b[0m\u001b[0m\n\u001b[0;32m   2077\u001b[0m             \u001b[0merrors\u001b[0m\u001b[1;33m=\u001b[0m\u001b[0merrors\u001b[0m\u001b[1;33m,\u001b[0m\u001b[1;33m\u001b[0m\u001b[1;33m\u001b[0m\u001b[0m\n",
      "\u001b[1;32mpandas\\_libs\\tslib.pyx\u001b[0m in \u001b[0;36mpandas._libs.tslib.array_to_datetime\u001b[1;34m()\u001b[0m\n",
      "\u001b[1;32mpandas\\_libs\\tslib.pyx\u001b[0m in \u001b[0;36mpandas._libs.tslib.array_to_datetime\u001b[1;34m()\u001b[0m\n",
      "\u001b[1;31mValueError\u001b[0m: time data sherri doesn't match format specified"
     ]
    }
   ],
   "source": [
    "dfg=pd.get_dummies(data=df1, columns=['gender'])\n",
    "\n",
    "# dfk = pd.DataFrame(pd.date_range('2000-01-02', freq='1M', periods=15), columns=['Date'])\n",
    "df1.inscription_date =pd.to_datetime(df1['inscription_date'], format='%Y-%m-%d')\n",
    "bins_dt = pd.date_range('2020-08-01' , freq='1M', periods=7)\n",
    "bins_str = bins_dt.astype(str).values\n",
    "labels = ['{}'.format( bins_str[i]) for i in range(1, len(bins_str))]\n",
    "df1['inscmonth']=pd.cut(df1.inscription_date,\n",
    "                   bins=bins_dt,\n",
    "                   labels=labels)\n",
    "\n",
    "df1\n",
    "dfg['inscmonth']=pd.cut(df1.inscription_date,\n",
    "                   bins=bins_dt,\n",
    "                   labels=labels)\n",
    "\n",
    "\n",
    "dft=pd.get_dummies(data=df2, columns=['gender'])\n",
    "\n",
    "# dfk = pd.DataFrame(pd.date_range('2000-01-02', freq='1M', periods=15), columns=['Date'])\n",
    "df2.inscription_date =pd.to_datetime(df2['inscription_date'], format='%Y-%m-%d')\n",
    "bins_dt = pd.date_range('2020-08-01' , freq='1M', periods=7)\n",
    "bins_str = bins_dt.astype(str).values\n",
    "labels = ['{}'.format( bins_str[i]) for i in range(1, len(bins_str))]\n",
    "df2['inscmonth']=pd.cut(df2.inscription_date,\n",
    "                   bins=bins_dt,\n",
    "                   labels=labels)\n",
    "\n",
    "df1\n",
    "dft['inscmonth']=pd.cut(df2.inscription_date,\n",
    "                   bins=bins_dt,\n",
    "                   labels=labels)\n",
    "df2"
   ]
  },
  {
   "cell_type": "code",
   "execution_count": null,
   "id": "cbf6041f",
   "metadata": {},
   "outputs": [],
   "source": [
    "\n",
    "# df3=pd.get_dummies(data=df1, columns=['career','gender','location'])\n",
    "\n",
    "dfc=dfg.groupby(['career']).mean()\n",
    "dfc=dfg.groupby(['career']).count()\n",
    "dfa=dfg.groupby(['age']).count()\n",
    "dfl=dfg.groupby(['location']).mean()\n",
    "dfI=dfg.groupby(['inscription_date']).mean()\n",
    "\n",
    "dfcp = df1.groupby(df1.postal_code).count()\n",
    "\n",
    "dfc\n",
    "\n",
    "dfc =dfg.university.groupby(df1.career).count()\n",
    "# dfc"
   ]
  },
  {
   "cell_type": "code",
   "execution_count": null,
   "id": "15a0f397",
   "metadata": {},
   "outputs": [],
   "source": [
    "# dfcg  =df1.university.groupby([df1.career,df1.gender,df1.age]).count().plot(kind=\"bar\")\n"
   ]
  },
  {
   "cell_type": "markdown",
   "id": "1244b609",
   "metadata": {},
   "source": [
    "# General\n",
    "## Comportamiento por universidad\n",
    "\n",
    "Grafícas de barras, pie, relación a 3 variables , para cada universidad \n",
    "\n",
    "\n",
    "# Univerdidad Grupo B Comahue"
   ]
  },
  {
   "cell_type": "code",
   "execution_count": null,
   "id": "376176e7",
   "metadata": {},
   "outputs": [],
   "source": [
    "import warnings\n",
    "warnings.simplefilter(action=\"ignore\", category=FutureWarning)\n",
    "#  Bar\n",
    "grafBar(df1.gender,df1.university[0])\n",
    "grafBar(df1.career,df1.university[0])\n",
    "grafBar(df1.age,df1.university[0])\n",
    "#  Pie\n",
    "grafPie(df1,df1.age,df1.university[0])\n",
    "grafPie(df1,df1.gender,df1.university[0])\n",
    "grafPie(df1,df1.inscmonth,df1.university[0])\n",
    "# Box\n",
    "grafBox(df1.gender,df1.age,df1.university[0])\n",
    "grafBox(df1.career,df1.age,df1.university[0])\n",
    "\n",
    "#  Location \n",
    "grafLocation(df1)"
   ]
  },
  {
   "cell_type": "code",
   "execution_count": null,
   "id": "ccda0263",
   "metadata": {},
   "outputs": [],
   "source": [
    "\n"
   ]
  },
  {
   "cell_type": "markdown",
   "id": "2e907e1c",
   "metadata": {},
   "source": [
    "# Universidad Grupo B salvador\n"
   ]
  },
  {
   "cell_type": "code",
   "execution_count": null,
   "id": "f41d6e62",
   "metadata": {},
   "outputs": [],
   "source": [
    "#  Bar\n",
    "grafBar(df2.gender,df2.university[0])\n",
    "grafBar(df2.career,df2.university[0])\n",
    "grafBar(df2.age,df2.university[0])\n",
    "#  Pie\n",
    "grafPie(df2,df2.age,df2.university[0])\n",
    "grafPie(df2,df2.gender,df2.university[0])\n",
    "grafPie(df2,df2.inscmonth,df2.university[0])\n",
    "# Box\n",
    "grafBox(df2.gender,df2.age,df2.university[0])\n",
    "grafBox(df2.career,df2.age,df2.university[0])\n",
    "\n",
    "#  Location \n",
    "grafLocation(df2)\n"
   ]
  },
  {
   "cell_type": "code",
   "execution_count": null,
   "id": "3c3dc323",
   "metadata": {},
   "outputs": [],
   "source": [
    "dfg1=pd.get_dummies(data=dfg, columns=['career'])\n",
    "dft2=pd.get_dummies(data=dft, columns=['career'])"
   ]
  },
  {
   "cell_type": "code",
   "execution_count": null,
   "id": "1131994a",
   "metadata": {},
   "outputs": [],
   "source": [
    "# dfg1"
   ]
  },
  {
   "cell_type": "code",
   "execution_count": null,
   "id": "4f8c71a8",
   "metadata": {},
   "outputs": [],
   "source": [
    "# dft2"
   ]
  },
  {
   "cell_type": "code",
   "execution_count": null,
   "id": "81f731e1",
   "metadata": {},
   "outputs": [],
   "source": [
    "correlacion1 = dfg1.corr()\n",
    "# correlacion\n",
    "correlacion1"
   ]
  },
  {
   "cell_type": "code",
   "execution_count": null,
   "id": "78b140df",
   "metadata": {},
   "outputs": [],
   "source": []
  },
  {
   "cell_type": "code",
   "execution_count": null,
   "id": "a0ef42a1",
   "metadata": {},
   "outputs": [],
   "source": [
    "correlacion[0:5]"
   ]
  },
  {
   "cell_type": "code",
   "execution_count": null,
   "id": "dcfaf463",
   "metadata": {},
   "outputs": [],
   "source": [
    "correlacion2 = dft2.corr()\n",
    "# correlacion\n",
    "correlacion2\n",
    "# sns.heatmap(correlacion[0:5],xticklabels=correlacion.columns[0:5],yticklabels=correlacion.columns[0:5],annot=True)\n",
    "# plt.show()"
   ]
  },
  {
   "cell_type": "code",
   "execution_count": null,
   "id": "8753f7e0",
   "metadata": {},
   "outputs": [],
   "source": [
    "correlacion2[0:5]"
   ]
  },
  {
   "cell_type": "code",
   "execution_count": null,
   "id": "72cf1ae3",
   "metadata": {},
   "outputs": [],
   "source": []
  },
  {
   "cell_type": "code",
   "execution_count": null,
   "id": "80dbff0e",
   "metadata": {},
   "outputs": [],
   "source": []
  },
  {
   "cell_type": "code",
   "execution_count": null,
   "id": "47b32000",
   "metadata": {},
   "outputs": [],
   "source": []
  },
  {
   "cell_type": "code",
   "execution_count": null,
   "id": "b8ee6911",
   "metadata": {},
   "outputs": [],
   "source": []
  },
  {
   "cell_type": "code",
   "execution_count": null,
   "id": "69744bbb",
   "metadata": {},
   "outputs": [],
   "source": []
  },
  {
   "cell_type": "code",
   "execution_count": null,
   "id": "d8f63f8d",
   "metadata": {},
   "outputs": [],
   "source": []
  },
  {
   "cell_type": "code",
   "execution_count": null,
   "id": "c2d2937a",
   "metadata": {},
   "outputs": [],
   "source": [
    "grafBar(df1.gender,df1.university[0])\n",
    "grafBar(df2.gender,df2.university[0])"
   ]
  },
  {
   "cell_type": "code",
   "execution_count": null,
   "id": "0c6f8bdf",
   "metadata": {},
   "outputs": [],
   "source": []
  },
  {
   "cell_type": "code",
   "execution_count": null,
   "id": "b3e4945a",
   "metadata": {},
   "outputs": [],
   "source": [
    "grafBox(df1.gender,df1.age,df1.university[0])\n",
    "grafBox(df2.gender,df2.age,df2.university[0])"
   ]
  },
  {
   "cell_type": "code",
   "execution_count": null,
   "id": "a0cc728f",
   "metadata": {},
   "outputs": [],
   "source": [
    "grafPie(df1,df1.gender,df1.university[0])\n",
    "grafPie(df2,df2.gender,df2.university[0])\n",
    "\n",
    "\n",
    "\n"
   ]
  },
  {
   "cell_type": "code",
   "execution_count": null,
   "id": "813821c4",
   "metadata": {},
   "outputs": [],
   "source": [
    "# total_precio = df2.groupby(df2.gender).count()\n",
    "# print(total_precio)\n",
    "# #     etiquetas = dfg.unique()\n",
    "# # l=list(total_precio['university'].index.sort_values())\n",
    "# label =total_precio['age'].sort_values()\n",
    "\n",
    "# label.index\n",
    "# total_precio.age\n",
    "# # total_precio['age'].index\n"
   ]
  },
  {
   "cell_type": "code",
   "execution_count": null,
   "id": "efd7743e",
   "metadata": {},
   "outputs": [],
   "source": [
    "co = total_precio.columns[0]\n",
    "\n",
    "\n",
    "total_precio[co]"
   ]
  },
  {
   "cell_type": "code",
   "execution_count": null,
   "id": "0777de8d",
   "metadata": {},
   "outputs": [],
   "source": [
    "total_precio = df1.groupby(df1.gender).count()\n",
    "\n",
    "colors = sns.color_palette('pastel')[0:6]\n",
    "# plt.pie(total_precio.columns[0],labels=total_precio.index, colors = colors,\n",
    "# autopct='%.0f%%')\n",
    "# # plt.title(f\"Inscription by {dfg.name}: {location}\")\n",
    "# plt.show()"
   ]
  },
  {
   "cell_type": "code",
   "execution_count": null,
   "id": "4904292f",
   "metadata": {},
   "outputs": [],
   "source": [
    "total_precio.columns[0]\n"
   ]
  },
  {
   "cell_type": "code",
   "execution_count": null,
   "id": "84b7fd47",
   "metadata": {},
   "outputs": [],
   "source": [
    "904/len(df1)*100\n",
    "\n",
    "df1.gender.unique()"
   ]
  },
  {
   "cell_type": "code",
   "execution_count": null,
   "id": "b70b601c",
   "metadata": {},
   "outputs": [],
   "source": [
    "grafPie(df1,df1.inscmonth,df1.university[0])\n",
    "grafPie(df2,df2.inscmonth,df2.university[0])"
   ]
  },
  {
   "cell_type": "code",
   "execution_count": null,
   "id": "a64ec8bc",
   "metadata": {},
   "outputs": [],
   "source": [
    "grafPie(df1,df1.age,df1.university[0])\n",
    "grafPie(df2,df2.age,df2.university[0])"
   ]
  },
  {
   "cell_type": "code",
   "execution_count": null,
   "id": "ce384c4f",
   "metadata": {},
   "outputs": [],
   "source": []
  },
  {
   "cell_type": "code",
   "execution_count": null,
   "id": "cb71a7d7",
   "metadata": {},
   "outputs": [],
   "source": []
  },
  {
   "cell_type": "code",
   "execution_count": null,
   "id": "25379fb1",
   "metadata": {},
   "outputs": [],
   "source": [
    "grafBox(df1.career,df1.age,df1.university[0])\n",
    "grafBox(df2.career,df2.age,df2.university[0])\n"
   ]
  },
  {
   "cell_type": "code",
   "execution_count": null,
   "id": "88cf4a7a",
   "metadata": {},
   "outputs": [],
   "source": []
  },
  {
   "cell_type": "code",
   "execution_count": null,
   "id": "4aa8f82a",
   "metadata": {},
   "outputs": [],
   "source": [
    "grafBar(df1.career,df1.university[0])\n",
    "grafBar(df2.career,df2.university[0])"
   ]
  },
  {
   "cell_type": "code",
   "execution_count": null,
   "id": "67043e5b",
   "metadata": {},
   "outputs": [],
   "source": [
    "grafBar(df1.age,df1.university[0])\n",
    "grafBar(df2.age,df2.university[0])"
   ]
  },
  {
   "cell_type": "code",
   "execution_count": null,
   "id": "ae52cfc5",
   "metadata": {},
   "outputs": [],
   "source": [
    "graf3Rel(df1,df1.career,df1.age,df1.gender)\n",
    "graf3Rel(df2,df2.career,df2.age,df2.gender)"
   ]
  },
  {
   "cell_type": "code",
   "execution_count": null,
   "id": "db6b1704",
   "metadata": {},
   "outputs": [],
   "source": [
    "grafLocation(df1)\n",
    "\n",
    "\n"
   ]
  },
  {
   "cell_type": "code",
   "execution_count": null,
   "id": "8f18aebc",
   "metadata": {},
   "outputs": [],
   "source": [
    "df1.university.unique()[0]"
   ]
  },
  {
   "cell_type": "code",
   "execution_count": null,
   "id": "ec149ead",
   "metadata": {},
   "outputs": [],
   "source": [
    "grafLocation(df2)"
   ]
  },
  {
   "cell_type": "code",
   "execution_count": null,
   "id": "8d085203",
   "metadata": {},
   "outputs": [],
   "source": [
    "dfg1.describe()"
   ]
  },
  {
   "cell_type": "code",
   "execution_count": null,
   "id": "e30911e0",
   "metadata": {},
   "outputs": [],
   "source": [
    "dft2.describe()"
   ]
  },
  {
   "cell_type": "code",
   "execution_count": null,
   "id": "65adf584",
   "metadata": {},
   "outputs": [],
   "source": [
    "df1.career.groupby([df1.career,df1.age,df1.gender]).describe()\n",
    "\n",
    "\n"
   ]
  },
  {
   "cell_type": "code",
   "execution_count": null,
   "id": "6237473f",
   "metadata": {},
   "outputs": [],
   "source": [
    "df2.career.groupby([df2.career,df2.age,df2.gender]).describe()"
   ]
  },
  {
   "cell_type": "code",
   "execution_count": null,
   "id": "85952af2",
   "metadata": {},
   "outputs": [],
   "source": [
    "dif = len(df2)-len(df1)\n",
    "dif"
   ]
  },
  {
   "cell_type": "code",
   "execution_count": null,
   "id": "2abb3d0a",
   "metadata": {},
   "outputs": [],
   "source": [
    "dif/len(df2)*100"
   ]
  },
  {
   "cell_type": "code",
   "execution_count": null,
   "id": "05e675f2",
   "metadata": {},
   "outputs": [],
   "source": [
    "ma=df1.university.groupby(df1.age).describe()\n",
    "\n",
    "# dat['count'].unique()\n",
    "f =ma['count'] == ma['count'].max()\n",
    "name_L=ma[f].index[0]\n",
    "# loca =df1.location == ma[f].index[0]\n",
    "name_L\n",
    "ma\n",
    "print(df1.university[0])\n",
    "print(name_L, ma['count'].max())\n"
   ]
  },
  {
   "cell_type": "code",
   "execution_count": null,
   "id": "9e50c6c6",
   "metadata": {},
   "outputs": [],
   "source": [
    "ma"
   ]
  },
  {
   "cell_type": "code",
   "execution_count": null,
   "id": "2727806d",
   "metadata": {},
   "outputs": [],
   "source": [
    "EdT1=ma.sum()\n",
    "ma\n",
    "ma[ma.index > 27].sum()\n",
    "ma[ma.index > 27].sum()[0]/ma.sum()[0]*100\n",
    "\n",
    "# len(df1)\n"
   ]
  },
  {
   "cell_type": "code",
   "execution_count": null,
   "id": "c56131b0",
   "metadata": {},
   "outputs": [],
   "source": [
    "ma=df2.university.groupby(df2.age).describe()\n",
    "\n",
    "# dat['count'].unique()\n",
    "f =ma['count'] == ma['count'].max()\n",
    "name_L=ma[f].index[0]\n",
    "# loca =df1.location == ma[f].index[0]\n",
    "name_L\n",
    "print(df2.university[0])\n",
    "print(name_L, ma['count'].max())"
   ]
  },
  {
   "cell_type": "code",
   "execution_count": null,
   "id": "e55edee8",
   "metadata": {},
   "outputs": [],
   "source": [
    "EdadT2=ma.sum()\n",
    "ma"
   ]
  },
  {
   "cell_type": "code",
   "execution_count": null,
   "id": "0ada37ea",
   "metadata": {},
   "outputs": [],
   "source": [
    "ma[ma.index > 27].sum()[0]/ma.sum()[0]*100"
   ]
  },
  {
   "cell_type": "code",
   "execution_count": null,
   "id": "60284dc0",
   "metadata": {},
   "outputs": [],
   "source": [
    "# ma=df1.university.groupby(df1.location).describe()"
   ]
  },
  {
   "cell_type": "code",
   "execution_count": null,
   "id": "7fe7a293",
   "metadata": {},
   "outputs": [],
   "source": []
  },
  {
   "cell_type": "code",
   "execution_count": null,
   "id": "6cbf6573",
   "metadata": {},
   "outputs": [],
   "source": [
    "df2.university.groupby(df2.career).count().max()"
   ]
  },
  {
   "cell_type": "markdown",
   "id": "c3bbb734",
   "metadata": {},
   "source": [
    "# Conclusión\n",
    "\n",
    "- La mayor parte de la población inscrita entre 2020-09-01 e inicios 2021-02-01, es de mujeres con un 52% para la universidad del Salvador, a diferencia de la  universidad comanhue donde su mayor población es de hombres con un 51%, la universidad del salvador solo tiene 73 personas inscritas mas que la universidad de comenhue equivalente a un 4 % aproximadamente, \n",
    "- La edad promedio de los inscritos se encuentra entre los 27 y 28 años, aunque la mayor cantidad de inscritos en el periodo de tiempo establecido tienen la edad de 23 años para ambas universidades, la edad minima esta en 17 años y la maxima en 40 años, además la universidad de comenhue tiene su mayor población mayor a 27 años con un valor del 50% a diferencia de la universidad del salvador con un 40.5 % , por tanto la universidad del salvador tiene personas más jovenes.\n",
    "- La mayor población que provienen de una misma localidad es de 12 para la universidad de comahue para la localidad de 25 de mayo, y de 10 para la universidad del Salvador para la localidad agua colorada, al realizar las gráficas realizadas al dataset general, se observo que el mismo comportamiento  para el genero de inscripciones tomando la tendencia general de los datos, la elección de carrera presenta gran variedad por localidad ,edad, y genero como se observa en el grafíco que relaciona la edad, carrera y genero."
   ]
  },
  {
   "cell_type": "code",
   "execution_count": null,
   "id": "08c53a16",
   "metadata": {},
   "outputs": [],
   "source": []
  },
  {
   "cell_type": "code",
   "execution_count": null,
   "id": "adc1a753",
   "metadata": {},
   "outputs": [],
   "source": []
  },
  {
   "cell_type": "code",
   "execution_count": null,
   "id": "67a87854",
   "metadata": {},
   "outputs": [],
   "source": []
  },
  {
   "cell_type": "code",
   "execution_count": null,
   "id": "ee86c7ab",
   "metadata": {},
   "outputs": [],
   "source": []
  },
  {
   "cell_type": "code",
   "execution_count": null,
   "id": "24c79477",
   "metadata": {},
   "outputs": [],
   "source": []
  }
 ],
 "metadata": {
  "kernelspec": {
   "display_name": "Python 3",
   "language": "python",
   "name": "python3"
  },
  "language_info": {
   "codemirror_mode": {
    "name": "ipython",
    "version": 3
   },
   "file_extension": ".py",
   "mimetype": "text/x-python",
   "name": "python",
   "nbconvert_exporter": "python",
   "pygments_lexer": "ipython3",
   "version": "3.8.8"
  },
  "vscode": {
   "interpreter": {
    "hash": "ff0d91300876931207232d01add3156fa7c8214350996c757a3c6cebc4b3b5d5"
   }
  }
 },
 "nbformat": 4,
 "nbformat_minor": 5
}

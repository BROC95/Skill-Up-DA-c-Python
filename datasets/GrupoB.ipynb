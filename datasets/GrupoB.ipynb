{
 "cells": [
  {
   "cell_type": "code",
   "execution_count": 61,
   "id": "cd19a766",
   "metadata": {},
   "outputs": [],
   "source": [
    "import pandas as pd\n",
    "import matplotlib.pyplot as plt \n",
    "from matplotlib.backends.backend_agg import FigureCanvasAgg as FigureCanvas\n",
    "from matplotlib.figure import Figure\n",
    "import numpy as np\n",
    "import seaborn as sns\n",
    "import requests "
   ]
  },
  {
   "cell_type": "code",
   "execution_count": 62,
   "id": "f2703e2e",
   "metadata": {},
   "outputs": [],
   "source": [
    "import random\n",
    "def hexAl():\n",
    "    color = [\"#\"+''.join([random.choice('0123456789ABCDEF') for j in range(6)])]\n",
    "#     print(color)\n",
    "    return color[0]\n",
    "def grafLocation(df):\n",
    "    corrloc =df.groupby(df.location).count()\n",
    "    c4=corrloc.university>5\n",
    "    n =corrloc[c4]\n",
    "    colores = [hexAl() for i in range(len(n))]\n",
    "    corrloc[c4].university.plot(kind=\"bar\", color = colores,fontsize=20)\n",
    "    plt.title(f'Inscription by {df.location.name} > 5 in {df.university[0]}', fontsize=15)\n",
    "    plt.show()\n",
    "    ma= corrloc[c4]\n",
    "    ma.index\n",
    "    ma.max()\n",
    "    f =ma.age == ma.age.max()\n",
    "    name_L=ma[f].index[0]\n",
    "    loca =df1.location == ma[f].index[0]\n",
    "    grupoL =df1[loca]\n",
    "    N = len(grupoL)\n",
    "    colores = [hexAl() for i in range(N)]\n",
    "    grupoL.university.groupby(grupoL.inscmonth).count().plot(kind=\"bar\",color = colores,fontsize=20)\n",
    "    plt.title(f'Inscription by {df.location.name} > 5 in {df.university[0]} by {df.inscmonth.name}', fontsize=15)\n",
    "    plt.show()\n",
    "    grafBar(grupoL.career, name_L)\n",
    "    grafBar(grupoL.age, name_L)\n",
    "    grafBox(grupoL.gender,grupoL.age, name_L)\n",
    "    grafPie(grupoL,grupoL.age, name_L)\n",
    "    grafPie(grupoL,grupoL.gender, name_L)\n",
    "    grafPie(grupoL,grupoL.career, name_L)\n",
    "    graf3Rel(grupoL,grupoL.career,grupoL.age,grupoL.gender)\n",
    "    \n",
    "    \n",
    "    \n",
    "def grafPie(dfD,dfg,location=\"\"):\n",
    "    total_precio = dfD.groupby(dfg).count()\n",
    "    colors = sns.color_palette('pastel')[0:6]\n",
    "    co = total_precio.columns[0]\n",
    "    plt.pie(total_precio[co],labels=total_precio.index, colors = colors,\n",
    "    autopct='%.0f%%')\n",
    "    plt.title(f\"Inscription by {dfg.name}: {location}\")\n",
    "    plt.show()\n",
    "\n",
    "#     total_precio = dfD.groupby(dfg).count()\n",
    "#     print(total_precio)\n",
    "#     etiquetas = total_precio.index()\n",
    "# #     print()\n",
    "#     colors = sns.color_palette('pastel')[0:6]\n",
    "#     plt.pie(total_precio, labels = etiquetas, colors = colors,\n",
    "#     autopct='%.0f%%')\n",
    "#     plt.title(f\"Inscription by {dfg.name}: {location}\")\n",
    "#     plt.show()\n",
    " \n",
    "\n",
    "    \n",
    "def grafBar(data,location=\"\"):\n",
    "    fig = plt.figure(figsize = (10,5))\n",
    "    plt.title(f\"Inscription by {data.name}: {location}\")\n",
    "    sns.countplot(data, order = data.value_counts().index)\n",
    "    plt.xticks(rotation=90)\n",
    "    plt.show()\n",
    "\n",
    "\n",
    "    \n",
    "def graf3Rel(df,xd,yd,zd):\n",
    "    \n",
    "    sns.relplot(x=xd ,y=yd,hue=zd,data=df)\n",
    "    plt.title(f\"Inscription by {df.university.unique()[0]}\")\n",
    "    plt.xticks(rotation=90)\n",
    "    plt.show()\n",
    "\n",
    "    \n",
    "def grafBox(var1,var2, location=\"\"):\n",
    "    plt.title(f\"Inscription by {var1.name}:{var2.name}:{location}\")\n",
    "    sns.boxplot(x=var1,y=var2)\n",
    "    plt.xticks(rotation=90)\n",
    "    plt.show()\n",
    "    \n",
    "    \n",
    "def url_todf(url):\n",
    "    df = pd.read_html(url)\n",
    "    df =df[0][1]\n",
    "    df =df.str.split(\"\\t\")\n",
    "    li =df.to_list()\n",
    "    df1 = pd.DataFrame(li[1:],columns=li[0])\n",
    "    return df1"
   ]
  },
  {
   "cell_type": "code",
   "execution_count": 82,
   "id": "596e9b46",
   "metadata": {},
   "outputs": [],
   "source": [
    "url1 = \"https://github.com/dipaolme/Skill-Up-DA-c-Python/blob/grupoB/datasets/GBUNComahue_process.txt\"\n",
    "url2 = \"https://github.com/dipaolme/Skill-Up-DA-c-Python/blob/grupoB/datasets/GBUNSalvador_process.txt\"\n",
    "\n",
    "df1 = url_todf(url1)\n",
    "df2 = url_todf(url2)\n",
    "\n"
   ]
  },
  {
   "cell_type": "code",
   "execution_count": 83,
   "id": "ef48231f",
   "metadata": {},
   "outputs": [
    {
     "data": {
      "text/plain": [
       "university          object\n",
       "career              object\n",
       "inscription_date    object\n",
       "first_name          object\n",
       "last_name           object\n",
       "gender              object\n",
       "age                 object\n",
       "postal_code         object\n",
       "location            object\n",
       "email               object\n",
       "dtype: object"
      ]
     },
     "execution_count": 83,
     "metadata": {},
     "output_type": "execute_result"
    }
   ],
   "source": [
    "df1.dtypes"
   ]
  },
  {
   "cell_type": "code",
   "execution_count": 84,
   "id": "8369e10f",
   "metadata": {},
   "outputs": [],
   "source": [
    "df1.inscription_date =pd.to_datetime(df1['inscription_date'], format='%Y-%m-%d')"
   ]
  },
  {
   "cell_type": "code",
   "execution_count": 67,
   "id": "a995b8a9",
   "metadata": {},
   "outputs": [],
   "source": [
    "# data =\"GBUNComahue_process.txt\"\n",
    "\n",
    "# df = pd.read_csv(data,sep=\"\\t\")\n",
    "\n",
    "\n",
    "# df.career"
   ]
  },
  {
   "cell_type": "code",
   "execution_count": null,
   "id": "373e178e",
   "metadata": {},
   "outputs": [],
   "source": []
  },
  {
   "cell_type": "code",
   "execution_count": null,
   "id": "8e03583e",
   "metadata": {},
   "outputs": [],
   "source": []
  },
  {
   "cell_type": "code",
   "execution_count": null,
   "id": "d494f048",
   "metadata": {},
   "outputs": [],
   "source": []
  },
  {
   "cell_type": "code",
   "execution_count": null,
   "id": "616a817b",
   "metadata": {},
   "outputs": [],
   "source": []
  },
  {
   "cell_type": "code",
   "execution_count": 352,
   "id": "8c73a8a3",
   "metadata": {},
   "outputs": [],
   "source": []
  },
  {
   "cell_type": "code",
   "execution_count": null,
   "id": "31ffdac6",
   "metadata": {},
   "outputs": [],
   "source": []
  },
  {
   "cell_type": "code",
   "execution_count": 470,
   "id": "a5b5f655",
   "metadata": {},
   "outputs": [],
   "source": []
  },
  {
   "cell_type": "code",
   "execution_count": 519,
   "id": "14cf6fe4",
   "metadata": {},
   "outputs": [],
   "source": []
  },
  {
   "cell_type": "code",
   "execution_count": 496,
   "id": "86ed717f",
   "metadata": {},
   "outputs": [
    {
     "data": {
      "text/plain": [
       "' licenciatura en ciencia política'"
      ]
     },
     "execution_count": 496,
     "metadata": {},
     "output_type": "execute_result"
    }
   ],
   "source": []
  },
  {
   "cell_type": "code",
   "execution_count": null,
   "id": "92e58d20",
   "metadata": {},
   "outputs": [],
   "source": []
  },
  {
   "cell_type": "code",
   "execution_count": null,
   "id": "1ecbb903",
   "metadata": {},
   "outputs": [],
   "source": []
  },
  {
   "cell_type": "code",
   "execution_count": 71,
   "id": "bd839746",
   "metadata": {},
   "outputs": [
    {
     "data": {
      "text/html": [
       "<div>\n",
       "<style scoped>\n",
       "    .dataframe tbody tr th:only-of-type {\n",
       "        vertical-align: middle;\n",
       "    }\n",
       "\n",
       "    .dataframe tbody tr th {\n",
       "        vertical-align: top;\n",
       "    }\n",
       "\n",
       "    .dataframe thead th {\n",
       "        text-align: right;\n",
       "    }\n",
       "</style>\n",
       "<table border=\"1\" class=\"dataframe\">\n",
       "  <thead>\n",
       "    <tr style=\"text-align: right;\">\n",
       "      <th></th>\n",
       "      <th>university</th>\n",
       "      <th>career</th>\n",
       "      <th>inscription_date</th>\n",
       "      <th>first_name</th>\n",
       "      <th>last_name</th>\n",
       "      <th>gender</th>\n",
       "      <th>age</th>\n",
       "      <th>postal_code</th>\n",
       "      <th>location</th>\n",
       "      <th>email</th>\n",
       "    </tr>\n",
       "  </thead>\n",
       "  <tbody>\n",
       "    <tr>\n",
       "      <th>0</th>\n",
       "      <td>univ. nacional del comahue</td>\n",
       "      <td>licenciatura en psicología</td>\n",
       "      <td>2020-09-01</td>\n",
       "      <td>gregory</td>\n",
       "      <td>howell</td>\n",
       "      <td>male</td>\n",
       "      <td>19</td>\n",
       "      <td>5315</td>\n",
       "      <td>calera la norma</td>\n",
       "      <td>frankalexandra@yahoo.com</td>\n",
       "    </tr>\n",
       "    <tr>\n",
       "      <th>1</th>\n",
       "      <td>univ. nacional del comahue</td>\n",
       "      <td>farmacia</td>\n",
       "      <td>2020-09-01</td>\n",
       "      <td>tasha</td>\n",
       "      <td>brown</td>\n",
       "      <td>female</td>\n",
       "      <td>37</td>\n",
       "      <td>8305</td>\n",
       "      <td>aguada san roque</td>\n",
       "      <td>tedwards@gmail.com</td>\n",
       "    </tr>\n",
       "    <tr>\n",
       "      <th>2</th>\n",
       "      <td>univ. nacional del comahue</td>\n",
       "      <td>medicina</td>\n",
       "      <td>2020-09-01</td>\n",
       "      <td>ian</td>\n",
       "      <td>taylor</td>\n",
       "      <td>male</td>\n",
       "      <td>17</td>\n",
       "      <td>3428</td>\n",
       "      <td>estacion saladas</td>\n",
       "      <td>richard76@gmail.com</td>\n",
       "    </tr>\n",
       "    <tr>\n",
       "      <th>3</th>\n",
       "      <td>univ. nacional del comahue</td>\n",
       "      <td>medicina</td>\n",
       "      <td>2020-09-01</td>\n",
       "      <td>mark</td>\n",
       "      <td>sanchez</td>\n",
       "      <td>male</td>\n",
       "      <td>20</td>\n",
       "      <td>5873</td>\n",
       "      <td>isla</td>\n",
       "      <td>oduffy@yahoo.com</td>\n",
       "    </tr>\n",
       "    <tr>\n",
       "      <th>4</th>\n",
       "      <td>univ. nacional del comahue</td>\n",
       "      <td>licenciatura en ciencia política</td>\n",
       "      <td>2020-09-01</td>\n",
       "      <td>sherri</td>\n",
       "      <td>carter</td>\n",
       "      <td>female</td>\n",
       "      <td>29</td>\n",
       "      <td>1765</td>\n",
       "      <td>isidro casanova</td>\n",
       "      <td>fosterchase@gmail.com</td>\n",
       "    </tr>\n",
       "    <tr>\n",
       "      <th>...</th>\n",
       "      <td>...</td>\n",
       "      <td>...</td>\n",
       "      <td>...</td>\n",
       "      <td>...</td>\n",
       "      <td>...</td>\n",
       "      <td>...</td>\n",
       "      <td>...</td>\n",
       "      <td>...</td>\n",
       "      <td>...</td>\n",
       "      <td>...</td>\n",
       "    </tr>\n",
       "    <tr>\n",
       "      <th>1826</th>\n",
       "      <td>univ. nacional del comahue</td>\n",
       "      <td>técnico para bioterios</td>\n",
       "      <td>2021-02-01</td>\n",
       "      <td>keith</td>\n",
       "      <td>richardson</td>\n",
       "      <td>male</td>\n",
       "      <td>17</td>\n",
       "      <td>3466</td>\n",
       "      <td>abalo</td>\n",
       "      <td>kingjoseph@yahoo.com</td>\n",
       "    </tr>\n",
       "    <tr>\n",
       "      <th>1827</th>\n",
       "      <td>univ. nacional del comahue</td>\n",
       "      <td>licenciatura en ciencias biológicas</td>\n",
       "      <td>2021-02-01</td>\n",
       "      <td>richard</td>\n",
       "      <td>robles</td>\n",
       "      <td>male</td>\n",
       "      <td>29</td>\n",
       "      <td>8324</td>\n",
       "      <td>cipolletti</td>\n",
       "      <td>kylegraham@hotmail.com</td>\n",
       "    </tr>\n",
       "    <tr>\n",
       "      <th>1828</th>\n",
       "      <td>univ. nacional del comahue</td>\n",
       "      <td>licenciatura en artes</td>\n",
       "      <td>2021-02-01</td>\n",
       "      <td>stephanie</td>\n",
       "      <td>williams</td>\n",
       "      <td>female</td>\n",
       "      <td>19</td>\n",
       "      <td>5471</td>\n",
       "      <td>agua blanca</td>\n",
       "      <td>jvaldez@hotmail.com</td>\n",
       "    </tr>\n",
       "    <tr>\n",
       "      <th>1829</th>\n",
       "      <td>univ. nacional del comahue</td>\n",
       "      <td>diseño industrial</td>\n",
       "      <td>2021-02-01</td>\n",
       "      <td>jennifer</td>\n",
       "      <td>cohen</td>\n",
       "      <td>female</td>\n",
       "      <td>38</td>\n",
       "      <td>4157</td>\n",
       "      <td>arroyo mal paso</td>\n",
       "      <td>rramirez@hotmail.com</td>\n",
       "    </tr>\n",
       "    <tr>\n",
       "      <th>1830</th>\n",
       "      <td>univ. nacional del comahue</td>\n",
       "      <td>agronomía</td>\n",
       "      <td>2021-02-01</td>\n",
       "      <td>paul</td>\n",
       "      <td>byrd</td>\n",
       "      <td>male</td>\n",
       "      <td>23</td>\n",
       "      <td>1746</td>\n",
       "      <td>francisco alvarez</td>\n",
       "      <td>sheila73@yahoo.com</td>\n",
       "    </tr>\n",
       "  </tbody>\n",
       "</table>\n",
       "<p>1831 rows × 10 columns</p>\n",
       "</div>"
      ],
      "text/plain": [
       "                      university                               career  \\\n",
       "0     univ. nacional del comahue           licenciatura en psicología   \n",
       "1     univ. nacional del comahue                             farmacia   \n",
       "2     univ. nacional del comahue                             medicina   \n",
       "3     univ. nacional del comahue                             medicina   \n",
       "4     univ. nacional del comahue     licenciatura en ciencia política   \n",
       "...                          ...                                  ...   \n",
       "1826  univ. nacional del comahue               técnico para bioterios   \n",
       "1827  univ. nacional del comahue  licenciatura en ciencias biológicas   \n",
       "1828  univ. nacional del comahue                licenciatura en artes   \n",
       "1829  univ. nacional del comahue                    diseño industrial   \n",
       "1830  univ. nacional del comahue                            agronomía   \n",
       "\n",
       "     inscription_date first_name   last_name  gender age postal_code  \\\n",
       "0          2020-09-01    gregory      howell    male  19        5315   \n",
       "1          2020-09-01      tasha       brown  female  37        8305   \n",
       "2          2020-09-01        ian      taylor    male  17        3428   \n",
       "3          2020-09-01       mark     sanchez    male  20        5873   \n",
       "4          2020-09-01     sherri      carter  female  29        1765   \n",
       "...               ...        ...         ...     ...  ..         ...   \n",
       "1826       2021-02-01      keith  richardson    male  17        3466   \n",
       "1827       2021-02-01    richard      robles    male  29        8324   \n",
       "1828       2021-02-01  stephanie    williams  female  19        5471   \n",
       "1829       2021-02-01   jennifer       cohen  female  38        4157   \n",
       "1830       2021-02-01       paul        byrd    male  23        1746   \n",
       "\n",
       "               location                     email  \n",
       "0       calera la norma  frankalexandra@yahoo.com  \n",
       "1      aguada san roque        tedwards@gmail.com  \n",
       "2      estacion saladas       richard76@gmail.com  \n",
       "3                  isla          oduffy@yahoo.com  \n",
       "4       isidro casanova     fosterchase@gmail.com  \n",
       "...                 ...                       ...  \n",
       "1826              abalo      kingjoseph@yahoo.com  \n",
       "1827         cipolletti    kylegraham@hotmail.com  \n",
       "1828        agua blanca       jvaldez@hotmail.com  \n",
       "1829    arroyo mal paso      rramirez@hotmail.com  \n",
       "1830  francisco alvarez        sheila73@yahoo.com  \n",
       "\n",
       "[1831 rows x 10 columns]"
      ]
     },
     "execution_count": 71,
     "metadata": {},
     "output_type": "execute_result"
    }
   ],
   "source": [
    "df1"
   ]
  },
  {
   "cell_type": "code",
   "execution_count": 92,
   "id": "2acd2b9d",
   "metadata": {},
   "outputs": [],
   "source": [
    "dfg=pd.get_dummies(data=df1, columns=['gender'])\n",
    "\n",
    "\n",
    "df1.inscription_date = pd.to_datetime(df1.inscription_date)\n",
    "# dfk = pd.DataFrame(pd.date_range('2000-01-02', freq='1M', periods=15), columns=['Date'])\n",
    "df1.inscription_date =pd.to_datetime(df1['inscription_date'], format='%Y-%m-%d')\n",
    "bins_dt = pd.date_range('2020-08-01' , freq='1M', periods=7)\n",
    "bins_str = bins_dt.astype(str).values\n",
    "\n",
    "labels = ['{}'.format( bins_str[i]) for i in range(1, len(bins_str))]\n",
    "df1['inscmonth']=pd.cut(df1.inscription_date,\n",
    "                   bins=bins_dt,\n",
    "                   labels=labels)\n",
    "\n",
    "df1\n",
    "dfg['inscmonth']=pd.cut(df1.inscription_date,\n",
    "                   bins=bins_dt,\n",
    "                   labels=labels)"
   ]
  },
  {
   "cell_type": "code",
   "execution_count": 257,
   "id": "a344a955",
   "metadata": {},
   "outputs": [],
   "source": [
    "# "
   ]
  },
  {
   "cell_type": "code",
   "execution_count": null,
   "id": "06735aff",
   "metadata": {},
   "outputs": [],
   "source": []
  },
  {
   "cell_type": "code",
   "execution_count": 78,
   "id": "c5adec6d",
   "metadata": {},
   "outputs": [
    {
     "data": {
      "text/plain": [
       "university          object\n",
       "career              object\n",
       "inscription_date    object\n",
       "first_name          object\n",
       "last_name           object\n",
       "gender              object\n",
       "age                 object\n",
       "postal_code         object\n",
       "location            object\n",
       "email               object\n",
       "dtype: object"
      ]
     },
     "execution_count": 78,
     "metadata": {},
     "output_type": "execute_result"
    }
   ],
   "source": [
    "df2.dtypes"
   ]
  },
  {
   "cell_type": "code",
   "execution_count": null,
   "id": "8edc39d1",
   "metadata": {},
   "outputs": [],
   "source": []
  },
  {
   "cell_type": "code",
   "execution_count": 72,
   "id": "4d6b5492",
   "metadata": {},
   "outputs": [],
   "source": [
    "df1 = df1.copy()\n",
    "df2 = df2.copy()"
   ]
  },
  {
   "cell_type": "code",
   "execution_count": 85,
   "id": "4491ad1d",
   "metadata": {},
   "outputs": [
    {
     "ename": "ParserError",
     "evalue": "Unknown string format: kim",
     "output_type": "error",
     "traceback": [
      "\u001b[1;31m---------------------------------------------------------------------------\u001b[0m",
      "\u001b[1;31mTypeError\u001b[0m                                 Traceback (most recent call last)",
      "\u001b[1;32m~\\AppData\\Roaming\\Python\\Python38\\site-packages\\pandas\\core\\arrays\\datetimes.py\u001b[0m in \u001b[0;36mobjects_to_datetime64ns\u001b[1;34m(data, dayfirst, yearfirst, utc, errors, require_iso8601, allow_object)\u001b[0m\n\u001b[0;32m   2084\u001b[0m         \u001b[1;32mtry\u001b[0m\u001b[1;33m:\u001b[0m\u001b[1;33m\u001b[0m\u001b[1;33m\u001b[0m\u001b[0m\n\u001b[1;32m-> 2085\u001b[1;33m             \u001b[0mvalues\u001b[0m\u001b[1;33m,\u001b[0m \u001b[0mtz_parsed\u001b[0m \u001b[1;33m=\u001b[0m \u001b[0mconversion\u001b[0m\u001b[1;33m.\u001b[0m\u001b[0mdatetime_to_datetime64\u001b[0m\u001b[1;33m(\u001b[0m\u001b[0mdata\u001b[0m\u001b[1;33m)\u001b[0m\u001b[1;33m\u001b[0m\u001b[1;33m\u001b[0m\u001b[0m\n\u001b[0m\u001b[0;32m   2086\u001b[0m             \u001b[1;31m# If tzaware, these values represent unix timestamps, so we\u001b[0m\u001b[1;33m\u001b[0m\u001b[1;33m\u001b[0m\u001b[1;33m\u001b[0m\u001b[0m\n",
      "\u001b[1;32mpandas\\_libs\\tslibs\\conversion.pyx\u001b[0m in \u001b[0;36mpandas._libs.tslibs.conversion.datetime_to_datetime64\u001b[1;34m()\u001b[0m\n",
      "\u001b[1;31mTypeError\u001b[0m: Unrecognized value type: <class 'str'>",
      "\nDuring handling of the above exception, another exception occurred:\n",
      "\u001b[1;31mParserError\u001b[0m                               Traceback (most recent call last)",
      "\u001b[1;32m<ipython-input-85-c41be365f35e>\u001b[0m in \u001b[0;36m<module>\u001b[1;34m\u001b[0m\n\u001b[0;32m     19\u001b[0m \u001b[1;33m\u001b[0m\u001b[0m\n\u001b[0;32m     20\u001b[0m \u001b[0mdft\u001b[0m\u001b[1;33m=\u001b[0m\u001b[0mpd\u001b[0m\u001b[1;33m.\u001b[0m\u001b[0mget_dummies\u001b[0m\u001b[1;33m(\u001b[0m\u001b[0mdata\u001b[0m\u001b[1;33m=\u001b[0m\u001b[0mdf2\u001b[0m\u001b[1;33m,\u001b[0m \u001b[0mcolumns\u001b[0m\u001b[1;33m=\u001b[0m\u001b[1;33m[\u001b[0m\u001b[1;34m'gender'\u001b[0m\u001b[1;33m]\u001b[0m\u001b[1;33m)\u001b[0m\u001b[1;33m\u001b[0m\u001b[1;33m\u001b[0m\u001b[0m\n\u001b[1;32m---> 21\u001b[1;33m \u001b[0mdf2\u001b[0m\u001b[1;33m.\u001b[0m\u001b[0minscription_date\u001b[0m \u001b[1;33m=\u001b[0m \u001b[0mpd\u001b[0m\u001b[1;33m.\u001b[0m\u001b[0mto_datetime\u001b[0m\u001b[1;33m(\u001b[0m\u001b[0mdf2\u001b[0m\u001b[1;33m.\u001b[0m\u001b[0minscription_date\u001b[0m\u001b[1;33m)\u001b[0m\u001b[1;33m\u001b[0m\u001b[1;33m\u001b[0m\u001b[0m\n\u001b[0m\u001b[0;32m     22\u001b[0m \u001b[1;31m# dfk = pd.DataFrame(pd.date_range('2000-01-02', freq='1M', periods=15), columns=['Date'])\u001b[0m\u001b[1;33m\u001b[0m\u001b[1;33m\u001b[0m\u001b[1;33m\u001b[0m\u001b[0m\n\u001b[0;32m     23\u001b[0m \u001b[0mdf2\u001b[0m\u001b[1;33m.\u001b[0m\u001b[0minscription_date\u001b[0m \u001b[1;33m=\u001b[0m\u001b[0mpd\u001b[0m\u001b[1;33m.\u001b[0m\u001b[0mto_datetime\u001b[0m\u001b[1;33m(\u001b[0m\u001b[0mdf2\u001b[0m\u001b[1;33m[\u001b[0m\u001b[1;34m'inscription_date'\u001b[0m\u001b[1;33m]\u001b[0m\u001b[1;33m,\u001b[0m \u001b[0mformat\u001b[0m\u001b[1;33m=\u001b[0m\u001b[1;34m'%Y-%m-%d'\u001b[0m\u001b[1;33m)\u001b[0m\u001b[1;33m\u001b[0m\u001b[1;33m\u001b[0m\u001b[0m\n",
      "\u001b[1;32m~\\AppData\\Roaming\\Python\\Python38\\site-packages\\pandas\\core\\tools\\datetimes.py\u001b[0m in \u001b[0;36mto_datetime\u001b[1;34m(arg, errors, dayfirst, yearfirst, utc, format, exact, unit, infer_datetime_format, origin, cache)\u001b[0m\n\u001b[0;32m    799\u001b[0m                 \u001b[0mresult\u001b[0m \u001b[1;33m=\u001b[0m \u001b[0mresult\u001b[0m\u001b[1;33m.\u001b[0m\u001b[0mtz_localize\u001b[0m\u001b[1;33m(\u001b[0m\u001b[0mtz\u001b[0m\u001b[1;33m)\u001b[0m\u001b[1;33m\u001b[0m\u001b[1;33m\u001b[0m\u001b[0m\n\u001b[0;32m    800\u001b[0m     \u001b[1;32melif\u001b[0m \u001b[0misinstance\u001b[0m\u001b[1;33m(\u001b[0m\u001b[0marg\u001b[0m\u001b[1;33m,\u001b[0m \u001b[0mABCSeries\u001b[0m\u001b[1;33m)\u001b[0m\u001b[1;33m:\u001b[0m\u001b[1;33m\u001b[0m\u001b[1;33m\u001b[0m\u001b[0m\n\u001b[1;32m--> 801\u001b[1;33m         \u001b[0mcache_array\u001b[0m \u001b[1;33m=\u001b[0m \u001b[0m_maybe_cache\u001b[0m\u001b[1;33m(\u001b[0m\u001b[0marg\u001b[0m\u001b[1;33m,\u001b[0m \u001b[0mformat\u001b[0m\u001b[1;33m,\u001b[0m \u001b[0mcache\u001b[0m\u001b[1;33m,\u001b[0m \u001b[0mconvert_listlike\u001b[0m\u001b[1;33m)\u001b[0m\u001b[1;33m\u001b[0m\u001b[1;33m\u001b[0m\u001b[0m\n\u001b[0m\u001b[0;32m    802\u001b[0m         \u001b[1;32mif\u001b[0m \u001b[1;32mnot\u001b[0m \u001b[0mcache_array\u001b[0m\u001b[1;33m.\u001b[0m\u001b[0mempty\u001b[0m\u001b[1;33m:\u001b[0m\u001b[1;33m\u001b[0m\u001b[1;33m\u001b[0m\u001b[0m\n\u001b[0;32m    803\u001b[0m             \u001b[0mresult\u001b[0m \u001b[1;33m=\u001b[0m \u001b[0marg\u001b[0m\u001b[1;33m.\u001b[0m\u001b[0mmap\u001b[0m\u001b[1;33m(\u001b[0m\u001b[0mcache_array\u001b[0m\u001b[1;33m)\u001b[0m\u001b[1;33m\u001b[0m\u001b[1;33m\u001b[0m\u001b[0m\n",
      "\u001b[1;32m~\\AppData\\Roaming\\Python\\Python38\\site-packages\\pandas\\core\\tools\\datetimes.py\u001b[0m in \u001b[0;36m_maybe_cache\u001b[1;34m(arg, format, cache, convert_listlike)\u001b[0m\n\u001b[0;32m    176\u001b[0m         \u001b[0munique_dates\u001b[0m \u001b[1;33m=\u001b[0m \u001b[0munique\u001b[0m\u001b[1;33m(\u001b[0m\u001b[0marg\u001b[0m\u001b[1;33m)\u001b[0m\u001b[1;33m\u001b[0m\u001b[1;33m\u001b[0m\u001b[0m\n\u001b[0;32m    177\u001b[0m         \u001b[1;32mif\u001b[0m \u001b[0mlen\u001b[0m\u001b[1;33m(\u001b[0m\u001b[0munique_dates\u001b[0m\u001b[1;33m)\u001b[0m \u001b[1;33m<\u001b[0m \u001b[0mlen\u001b[0m\u001b[1;33m(\u001b[0m\u001b[0marg\u001b[0m\u001b[1;33m)\u001b[0m\u001b[1;33m:\u001b[0m\u001b[1;33m\u001b[0m\u001b[1;33m\u001b[0m\u001b[0m\n\u001b[1;32m--> 178\u001b[1;33m             \u001b[0mcache_dates\u001b[0m \u001b[1;33m=\u001b[0m \u001b[0mconvert_listlike\u001b[0m\u001b[1;33m(\u001b[0m\u001b[0munique_dates\u001b[0m\u001b[1;33m,\u001b[0m \u001b[0mformat\u001b[0m\u001b[1;33m)\u001b[0m\u001b[1;33m\u001b[0m\u001b[1;33m\u001b[0m\u001b[0m\n\u001b[0m\u001b[0;32m    179\u001b[0m             \u001b[0mcache_array\u001b[0m \u001b[1;33m=\u001b[0m \u001b[0mSeries\u001b[0m\u001b[1;33m(\u001b[0m\u001b[0mcache_dates\u001b[0m\u001b[1;33m,\u001b[0m \u001b[0mindex\u001b[0m\u001b[1;33m=\u001b[0m\u001b[0munique_dates\u001b[0m\u001b[1;33m)\u001b[0m\u001b[1;33m\u001b[0m\u001b[1;33m\u001b[0m\u001b[0m\n\u001b[0;32m    180\u001b[0m     \u001b[1;32mreturn\u001b[0m \u001b[0mcache_array\u001b[0m\u001b[1;33m\u001b[0m\u001b[1;33m\u001b[0m\u001b[0m\n",
      "\u001b[1;32m~\\AppData\\Roaming\\Python\\Python38\\site-packages\\pandas\\core\\tools\\datetimes.py\u001b[0m in \u001b[0;36m_convert_listlike_datetimes\u001b[1;34m(arg, format, name, tz, unit, errors, infer_datetime_format, dayfirst, yearfirst, exact)\u001b[0m\n\u001b[0;32m    463\u001b[0m         \u001b[1;32massert\u001b[0m \u001b[0mformat\u001b[0m \u001b[1;32mis\u001b[0m \u001b[1;32mNone\u001b[0m \u001b[1;32mor\u001b[0m \u001b[0minfer_datetime_format\u001b[0m\u001b[1;33m\u001b[0m\u001b[1;33m\u001b[0m\u001b[0m\n\u001b[0;32m    464\u001b[0m         \u001b[0mutc\u001b[0m \u001b[1;33m=\u001b[0m \u001b[0mtz\u001b[0m \u001b[1;33m==\u001b[0m \u001b[1;34m\"utc\"\u001b[0m\u001b[1;33m\u001b[0m\u001b[1;33m\u001b[0m\u001b[0m\n\u001b[1;32m--> 465\u001b[1;33m         result, tz_parsed = objects_to_datetime64ns(\n\u001b[0m\u001b[0;32m    466\u001b[0m             \u001b[0marg\u001b[0m\u001b[1;33m,\u001b[0m\u001b[1;33m\u001b[0m\u001b[1;33m\u001b[0m\u001b[0m\n\u001b[0;32m    467\u001b[0m             \u001b[0mdayfirst\u001b[0m\u001b[1;33m=\u001b[0m\u001b[0mdayfirst\u001b[0m\u001b[1;33m,\u001b[0m\u001b[1;33m\u001b[0m\u001b[1;33m\u001b[0m\u001b[0m\n",
      "\u001b[1;32m~\\AppData\\Roaming\\Python\\Python38\\site-packages\\pandas\\core\\arrays\\datetimes.py\u001b[0m in \u001b[0;36mobjects_to_datetime64ns\u001b[1;34m(data, dayfirst, yearfirst, utc, errors, require_iso8601, allow_object)\u001b[0m\n\u001b[0;32m   2088\u001b[0m             \u001b[1;32mreturn\u001b[0m \u001b[0mvalues\u001b[0m\u001b[1;33m.\u001b[0m\u001b[0mview\u001b[0m\u001b[1;33m(\u001b[0m\u001b[1;34m\"i8\"\u001b[0m\u001b[1;33m)\u001b[0m\u001b[1;33m,\u001b[0m \u001b[0mtz_parsed\u001b[0m\u001b[1;33m\u001b[0m\u001b[1;33m\u001b[0m\u001b[0m\n\u001b[0;32m   2089\u001b[0m         \u001b[1;32mexcept\u001b[0m \u001b[1;33m(\u001b[0m\u001b[0mValueError\u001b[0m\u001b[1;33m,\u001b[0m \u001b[0mTypeError\u001b[0m\u001b[1;33m)\u001b[0m\u001b[1;33m:\u001b[0m\u001b[1;33m\u001b[0m\u001b[1;33m\u001b[0m\u001b[0m\n\u001b[1;32m-> 2090\u001b[1;33m             \u001b[1;32mraise\u001b[0m \u001b[0me\u001b[0m\u001b[1;33m\u001b[0m\u001b[1;33m\u001b[0m\u001b[0m\n\u001b[0m\u001b[0;32m   2091\u001b[0m \u001b[1;33m\u001b[0m\u001b[0m\n\u001b[0;32m   2092\u001b[0m     \u001b[1;32mif\u001b[0m \u001b[0mtz_parsed\u001b[0m \u001b[1;32mis\u001b[0m \u001b[1;32mnot\u001b[0m \u001b[1;32mNone\u001b[0m\u001b[1;33m:\u001b[0m\u001b[1;33m\u001b[0m\u001b[1;33m\u001b[0m\u001b[0m\n",
      "\u001b[1;32m~\\AppData\\Roaming\\Python\\Python38\\site-packages\\pandas\\core\\arrays\\datetimes.py\u001b[0m in \u001b[0;36mobjects_to_datetime64ns\u001b[1;34m(data, dayfirst, yearfirst, utc, errors, require_iso8601, allow_object)\u001b[0m\n\u001b[0;32m   2073\u001b[0m \u001b[1;33m\u001b[0m\u001b[0m\n\u001b[0;32m   2074\u001b[0m     \u001b[1;32mtry\u001b[0m\u001b[1;33m:\u001b[0m\u001b[1;33m\u001b[0m\u001b[1;33m\u001b[0m\u001b[0m\n\u001b[1;32m-> 2075\u001b[1;33m         result, tz_parsed = tslib.array_to_datetime(\n\u001b[0m\u001b[0;32m   2076\u001b[0m             \u001b[0mdata\u001b[0m\u001b[1;33m,\u001b[0m\u001b[1;33m\u001b[0m\u001b[1;33m\u001b[0m\u001b[0m\n\u001b[0;32m   2077\u001b[0m             \u001b[0merrors\u001b[0m\u001b[1;33m=\u001b[0m\u001b[0merrors\u001b[0m\u001b[1;33m,\u001b[0m\u001b[1;33m\u001b[0m\u001b[1;33m\u001b[0m\u001b[0m\n",
      "\u001b[1;32mpandas\\_libs\\tslib.pyx\u001b[0m in \u001b[0;36mpandas._libs.tslib.array_to_datetime\u001b[1;34m()\u001b[0m\n",
      "\u001b[1;32mpandas\\_libs\\tslib.pyx\u001b[0m in \u001b[0;36mpandas._libs.tslib.array_to_datetime\u001b[1;34m()\u001b[0m\n",
      "\u001b[1;32mpandas\\_libs\\tslib.pyx\u001b[0m in \u001b[0;36mpandas._libs.tslib.array_to_datetime_object\u001b[1;34m()\u001b[0m\n",
      "\u001b[1;32mpandas\\_libs\\tslib.pyx\u001b[0m in \u001b[0;36mpandas._libs.tslib.array_to_datetime_object\u001b[1;34m()\u001b[0m\n",
      "\u001b[1;32mpandas\\_libs\\tslibs\\parsing.pyx\u001b[0m in \u001b[0;36mpandas._libs.tslibs.parsing.parse_datetime_string\u001b[1;34m()\u001b[0m\n",
      "\u001b[1;32m~\\AppData\\Roaming\\Python\\Python38\\site-packages\\dateutil\\parser\\_parser.py\u001b[0m in \u001b[0;36mparse\u001b[1;34m(timestr, parserinfo, **kwargs)\u001b[0m\n\u001b[0;32m   1372\u001b[0m         \u001b[1;32mreturn\u001b[0m \u001b[0mparser\u001b[0m\u001b[1;33m(\u001b[0m\u001b[0mparserinfo\u001b[0m\u001b[1;33m)\u001b[0m\u001b[1;33m.\u001b[0m\u001b[0mparse\u001b[0m\u001b[1;33m(\u001b[0m\u001b[0mtimestr\u001b[0m\u001b[1;33m,\u001b[0m \u001b[1;33m**\u001b[0m\u001b[0mkwargs\u001b[0m\u001b[1;33m)\u001b[0m\u001b[1;33m\u001b[0m\u001b[1;33m\u001b[0m\u001b[0m\n\u001b[0;32m   1373\u001b[0m     \u001b[1;32melse\u001b[0m\u001b[1;33m:\u001b[0m\u001b[1;33m\u001b[0m\u001b[1;33m\u001b[0m\u001b[0m\n\u001b[1;32m-> 1374\u001b[1;33m         \u001b[1;32mreturn\u001b[0m \u001b[0mDEFAULTPARSER\u001b[0m\u001b[1;33m.\u001b[0m\u001b[0mparse\u001b[0m\u001b[1;33m(\u001b[0m\u001b[0mtimestr\u001b[0m\u001b[1;33m,\u001b[0m \u001b[1;33m**\u001b[0m\u001b[0mkwargs\u001b[0m\u001b[1;33m)\u001b[0m\u001b[1;33m\u001b[0m\u001b[1;33m\u001b[0m\u001b[0m\n\u001b[0m\u001b[0;32m   1375\u001b[0m \u001b[1;33m\u001b[0m\u001b[0m\n\u001b[0;32m   1376\u001b[0m \u001b[1;33m\u001b[0m\u001b[0m\n",
      "\u001b[1;32m~\\AppData\\Roaming\\Python\\Python38\\site-packages\\dateutil\\parser\\_parser.py\u001b[0m in \u001b[0;36mparse\u001b[1;34m(self, timestr, default, ignoretz, tzinfos, **kwargs)\u001b[0m\n\u001b[0;32m    647\u001b[0m \u001b[1;33m\u001b[0m\u001b[0m\n\u001b[0;32m    648\u001b[0m         \u001b[1;32mif\u001b[0m \u001b[0mres\u001b[0m \u001b[1;32mis\u001b[0m \u001b[1;32mNone\u001b[0m\u001b[1;33m:\u001b[0m\u001b[1;33m\u001b[0m\u001b[1;33m\u001b[0m\u001b[0m\n\u001b[1;32m--> 649\u001b[1;33m             \u001b[1;32mraise\u001b[0m \u001b[0mParserError\u001b[0m\u001b[1;33m(\u001b[0m\u001b[1;34m\"Unknown string format: %s\"\u001b[0m\u001b[1;33m,\u001b[0m \u001b[0mtimestr\u001b[0m\u001b[1;33m)\u001b[0m\u001b[1;33m\u001b[0m\u001b[1;33m\u001b[0m\u001b[0m\n\u001b[0m\u001b[0;32m    650\u001b[0m \u001b[1;33m\u001b[0m\u001b[0m\n\u001b[0;32m    651\u001b[0m         \u001b[1;32mif\u001b[0m \u001b[0mlen\u001b[0m\u001b[1;33m(\u001b[0m\u001b[0mres\u001b[0m\u001b[1;33m)\u001b[0m \u001b[1;33m==\u001b[0m \u001b[1;36m0\u001b[0m\u001b[1;33m:\u001b[0m\u001b[1;33m\u001b[0m\u001b[1;33m\u001b[0m\u001b[0m\n",
      "\u001b[1;31mParserError\u001b[0m: Unknown string format: kim"
     ]
    }
   ],
   "source": [
    "\n",
    "\n",
    "\n",
    "dft=pd.get_dummies(data=df2, columns=['gender'])\n",
    "df2.inscription_date = pd.to_datetime(df2.inscription_date)\n",
    "# dfk = pd.DataFrame(pd.date_range('2000-01-02', freq='1M', periods=15), columns=['Date'])\n",
    "df2.inscription_date =pd.to_datetime(df2['inscription_date'], format='%Y-%m-%d')\n",
    "bins_dt = pd.date_range('2020-08-01' , freq='1M', periods=7)\n",
    "bins_str = bins_dt.astype(str).values\n",
    "labels = ['{}'.format( bins_str[i]) for i in range(1, len(bins_str))]\n",
    "df2['inscmonth']=pd.cut(df2.inscription_date,\n",
    "                   bins=bins_dt,\n",
    "                   labels=labels)\n",
    "\n",
    "df1\n",
    "dft['inscmonth']=pd.cut(df2.inscription_date,\n",
    "                   bins=bins_dt,\n",
    "                   labels=labels)\n",
    "df2"
   ]
  },
  {
   "cell_type": "code",
   "execution_count": null,
   "id": "cbf6041f",
   "metadata": {},
   "outputs": [],
   "source": [
    "\n",
    "# df3=pd.get_dummies(data=df1, columns=['career','gender','location'])\n",
    "\n",
    "dfc=dfg.groupby(['career']).mean()\n",
    "dfc=dfg.groupby(['career']).count()\n",
    "dfa=dfg.groupby(['age']).count()\n",
    "dfl=dfg.groupby(['location']).mean()\n",
    "dfI=dfg.groupby(['inscription_date']).mean()\n",
    "\n",
    "dfcp = df1.groupby(df1.postal_code).count()\n",
    "\n",
    "dfc\n",
    "\n",
    "dfc =dfg.university.groupby(df1.career).count()\n",
    "# dfc"
   ]
  },
  {
   "cell_type": "code",
   "execution_count": null,
   "id": "15a0f397",
   "metadata": {},
   "outputs": [],
   "source": [
    "# dfcg  =df1.university.groupby([df1.career,df1.gender,df1.age]).count().plot(kind=\"bar\")\n"
   ]
  },
  {
   "cell_type": "markdown",
   "id": "1244b609",
   "metadata": {},
   "source": [
    "# General\n",
    "## Comportamiento por universidad\n",
    "\n",
    "Grafícas de barras, pie, relación a 3 variables , para cada universidad \n",
    "\n",
    "\n",
    "# Univerdidad Grupo B Comahue"
   ]
  },
  {
   "cell_type": "code",
   "execution_count": 74,
   "id": "376176e7",
   "metadata": {},
   "outputs": [
    {
     "data": {
      "image/png": "[encoded data removed]",
      "text/plain": [
       "<Figure size 720x360 with 1 Axes>"
      ]
     },
     "metadata": {
      "needs_background": "light"
     },
     "output_type": "display_data"
    },
    {
     "data": {
      "image/png": "[encoded data removed]",
      "text/plain": [
       "<Figure size 720x360 with 1 Axes>"
      ]
     },
     "metadata": {
      "needs_background": "light"
     },
     "output_type": "display_data"
    },
    {
     "data": {
      "image/png": "[encoded data removed]",
      "text/plain": [
       "<Figure size 720x360 with 1 Axes>"
      ]
     },
     "metadata": {
      "needs_background": "light"
     },
     "output_type": "display_data"
    },
    {
     "data": {
      "image/png": "[encoded data removed]",
      "text/plain": [
       "<Figure size 432x288 with 1 Axes>"
      ]
     },
     "metadata": {},
     "output_type": "display_data"
    },
    {
     "data": {
      "image/png": "[encoded data removed]",
      "text/plain": [
       "<Figure size 432x288 with 1 Axes>"
      ]
     },
     "metadata": {},
     "output_type": "display_data"
    },
    {
     "data": {
      "image/png": "[encoded data removed]",
      "text/plain": [
       "<Figure size 432x288 with 1 Axes>"
      ]
     },
     "metadata": {},
     "output_type": "display_data"
    },
    {
     "ename": "TypeError",
     "evalue": "Neither the `x` nor `y` variable appears to be numeric.",
     "output_type": "error",
     "traceback": [
      "\u001b[1;31m---------------------------------------------------------------------------\u001b[0m",
      "\u001b[1;31mTypeError\u001b[0m                                 Traceback (most recent call last)",
      "\u001b[1;32m<ipython-input-74-7ed076fd7a3f>\u001b[0m in \u001b[0;36m<module>\u001b[1;34m\u001b[0m\n\u001b[0;32m     10\u001b[0m \u001b[0mgrafPie\u001b[0m\u001b[1;33m(\u001b[0m\u001b[0mdf1\u001b[0m\u001b[1;33m,\u001b[0m\u001b[0mdf1\u001b[0m\u001b[1;33m.\u001b[0m\u001b[0minscmonth\u001b[0m\u001b[1;33m,\u001b[0m\u001b[0mdf1\u001b[0m\u001b[1;33m.\u001b[0m\u001b[0muniversity\u001b[0m\u001b[1;33m[\u001b[0m\u001b[1;36m0\u001b[0m\u001b[1;33m]\u001b[0m\u001b[1;33m)\u001b[0m\u001b[1;33m\u001b[0m\u001b[1;33m\u001b[0m\u001b[0m\n\u001b[0;32m     11\u001b[0m \u001b[1;31m# Box\u001b[0m\u001b[1;33m\u001b[0m\u001b[1;33m\u001b[0m\u001b[1;33m\u001b[0m\u001b[0m\n\u001b[1;32m---> 12\u001b[1;33m \u001b[0mgrafBox\u001b[0m\u001b[1;33m(\u001b[0m\u001b[0mdf1\u001b[0m\u001b[1;33m.\u001b[0m\u001b[0mgender\u001b[0m\u001b[1;33m,\u001b[0m\u001b[0mdf1\u001b[0m\u001b[1;33m.\u001b[0m\u001b[0mage\u001b[0m\u001b[1;33m,\u001b[0m\u001b[0mdf1\u001b[0m\u001b[1;33m.\u001b[0m\u001b[0muniversity\u001b[0m\u001b[1;33m[\u001b[0m\u001b[1;36m0\u001b[0m\u001b[1;33m]\u001b[0m\u001b[1;33m)\u001b[0m\u001b[1;33m\u001b[0m\u001b[1;33m\u001b[0m\u001b[0m\n\u001b[0m\u001b[0;32m     13\u001b[0m \u001b[0mgrafBox\u001b[0m\u001b[1;33m(\u001b[0m\u001b[0mdf1\u001b[0m\u001b[1;33m.\u001b[0m\u001b[0mcareer\u001b[0m\u001b[1;33m,\u001b[0m\u001b[0mdf1\u001b[0m\u001b[1;33m.\u001b[0m\u001b[0mage\u001b[0m\u001b[1;33m,\u001b[0m\u001b[0mdf1\u001b[0m\u001b[1;33m.\u001b[0m\u001b[0muniversity\u001b[0m\u001b[1;33m[\u001b[0m\u001b[1;36m0\u001b[0m\u001b[1;33m]\u001b[0m\u001b[1;33m)\u001b[0m\u001b[1;33m\u001b[0m\u001b[1;33m\u001b[0m\u001b[0m\n\u001b[0;32m     14\u001b[0m \u001b[1;33m\u001b[0m\u001b[0m\n",
      "\u001b[1;32m<ipython-input-62-acf2a8eb73f4>\u001b[0m in \u001b[0;36mgrafBox\u001b[1;34m(var1, var2, location)\u001b[0m\n\u001b[0;32m     74\u001b[0m \u001b[1;32mdef\u001b[0m \u001b[0mgrafBox\u001b[0m\u001b[1;33m(\u001b[0m\u001b[0mvar1\u001b[0m\u001b[1;33m,\u001b[0m\u001b[0mvar2\u001b[0m\u001b[1;33m,\u001b[0m \u001b[0mlocation\u001b[0m\u001b[1;33m=\u001b[0m\u001b[1;34m\"\"\u001b[0m\u001b[1;33m)\u001b[0m\u001b[1;33m:\u001b[0m\u001b[1;33m\u001b[0m\u001b[1;33m\u001b[0m\u001b[0m\n\u001b[0;32m     75\u001b[0m     \u001b[0mplt\u001b[0m\u001b[1;33m.\u001b[0m\u001b[0mtitle\u001b[0m\u001b[1;33m(\u001b[0m\u001b[1;34mf\"Inscription by {var1.name}:{var2.name}:{location}\"\u001b[0m\u001b[1;33m)\u001b[0m\u001b[1;33m\u001b[0m\u001b[1;33m\u001b[0m\u001b[0m\n\u001b[1;32m---> 76\u001b[1;33m     \u001b[0msns\u001b[0m\u001b[1;33m.\u001b[0m\u001b[0mboxplot\u001b[0m\u001b[1;33m(\u001b[0m\u001b[0mx\u001b[0m\u001b[1;33m=\u001b[0m\u001b[0mvar1\u001b[0m\u001b[1;33m,\u001b[0m\u001b[0my\u001b[0m\u001b[1;33m=\u001b[0m\u001b[0mvar2\u001b[0m\u001b[1;33m)\u001b[0m\u001b[1;33m\u001b[0m\u001b[1;33m\u001b[0m\u001b[0m\n\u001b[0m\u001b[0;32m     77\u001b[0m     \u001b[0mplt\u001b[0m\u001b[1;33m.\u001b[0m\u001b[0mxticks\u001b[0m\u001b[1;33m(\u001b[0m\u001b[0mrotation\u001b[0m\u001b[1;33m=\u001b[0m\u001b[1;36m90\u001b[0m\u001b[1;33m)\u001b[0m\u001b[1;33m\u001b[0m\u001b[1;33m\u001b[0m\u001b[0m\n\u001b[0;32m     78\u001b[0m     \u001b[0mplt\u001b[0m\u001b[1;33m.\u001b[0m\u001b[0mshow\u001b[0m\u001b[1;33m(\u001b[0m\u001b[1;33m)\u001b[0m\u001b[1;33m\u001b[0m\u001b[1;33m\u001b[0m\u001b[0m\n",
      "\u001b[1;32m~\\AppData\\Roaming\\Python\\Python38\\site-packages\\seaborn\\_decorators.py\u001b[0m in \u001b[0;36minner_f\u001b[1;34m(*args, **kwargs)\u001b[0m\n\u001b[0;32m     44\u001b[0m             )\n\u001b[0;32m     45\u001b[0m         \u001b[0mkwargs\u001b[0m\u001b[1;33m.\u001b[0m\u001b[0mupdate\u001b[0m\u001b[1;33m(\u001b[0m\u001b[1;33m{\u001b[0m\u001b[0mk\u001b[0m\u001b[1;33m:\u001b[0m \u001b[0marg\u001b[0m \u001b[1;32mfor\u001b[0m \u001b[0mk\u001b[0m\u001b[1;33m,\u001b[0m \u001b[0marg\u001b[0m \u001b[1;32min\u001b[0m \u001b[0mzip\u001b[0m\u001b[1;33m(\u001b[0m\u001b[0msig\u001b[0m\u001b[1;33m.\u001b[0m\u001b[0mparameters\u001b[0m\u001b[1;33m,\u001b[0m \u001b[0margs\u001b[0m\u001b[1;33m)\u001b[0m\u001b[1;33m}\u001b[0m\u001b[1;33m)\u001b[0m\u001b[1;33m\u001b[0m\u001b[1;33m\u001b[0m\u001b[0m\n\u001b[1;32m---> 46\u001b[1;33m         \u001b[1;32mreturn\u001b[0m \u001b[0mf\u001b[0m\u001b[1;33m(\u001b[0m\u001b[1;33m**\u001b[0m\u001b[0mkwargs\u001b[0m\u001b[1;33m)\u001b[0m\u001b[1;33m\u001b[0m\u001b[1;33m\u001b[0m\u001b[0m\n\u001b[0m\u001b[0;32m     47\u001b[0m     \u001b[1;32mreturn\u001b[0m \u001b[0minner_f\u001b[0m\u001b[1;33m\u001b[0m\u001b[1;33m\u001b[0m\u001b[0m\n\u001b[0;32m     48\u001b[0m \u001b[1;33m\u001b[0m\u001b[0m\n",
      "\u001b[1;32m~\\AppData\\Roaming\\Python\\Python38\\site-packages\\seaborn\\categorical.py\u001b[0m in \u001b[0;36mboxplot\u001b[1;34m(x, y, hue, data, order, hue_order, orient, color, palette, saturation, width, dodge, fliersize, linewidth, whis, ax, **kwargs)\u001b[0m\n\u001b[0;32m   2238\u001b[0m ):\n\u001b[0;32m   2239\u001b[0m \u001b[1;33m\u001b[0m\u001b[0m\n\u001b[1;32m-> 2240\u001b[1;33m     plotter = _BoxPlotter(x, y, hue, data, order, hue_order,\n\u001b[0m\u001b[0;32m   2241\u001b[0m                           \u001b[0morient\u001b[0m\u001b[1;33m,\u001b[0m \u001b[0mcolor\u001b[0m\u001b[1;33m,\u001b[0m \u001b[0mpalette\u001b[0m\u001b[1;33m,\u001b[0m \u001b[0msaturation\u001b[0m\u001b[1;33m,\u001b[0m\u001b[1;33m\u001b[0m\u001b[1;33m\u001b[0m\u001b[0m\n\u001b[0;32m   2242\u001b[0m                           width, dodge, fliersize, linewidth)\n",
      "\u001b[1;32m~\\AppData\\Roaming\\Python\\Python38\\site-packages\\seaborn\\categorical.py\u001b[0m in \u001b[0;36m__init__\u001b[1;34m(self, x, y, hue, data, order, hue_order, orient, color, palette, saturation, width, dodge, fliersize, linewidth)\u001b[0m\n\u001b[0;32m    404\u001b[0m                  width, dodge, fliersize, linewidth):\n\u001b[0;32m    405\u001b[0m \u001b[1;33m\u001b[0m\u001b[0m\n\u001b[1;32m--> 406\u001b[1;33m         \u001b[0mself\u001b[0m\u001b[1;33m.\u001b[0m\u001b[0mestablish_variables\u001b[0m\u001b[1;33m(\u001b[0m\u001b[0mx\u001b[0m\u001b[1;33m,\u001b[0m \u001b[0my\u001b[0m\u001b[1;33m,\u001b[0m \u001b[0mhue\u001b[0m\u001b[1;33m,\u001b[0m \u001b[0mdata\u001b[0m\u001b[1;33m,\u001b[0m \u001b[0morient\u001b[0m\u001b[1;33m,\u001b[0m \u001b[0morder\u001b[0m\u001b[1;33m,\u001b[0m \u001b[0mhue_order\u001b[0m\u001b[1;33m)\u001b[0m\u001b[1;33m\u001b[0m\u001b[1;33m\u001b[0m\u001b[0m\n\u001b[0m\u001b[0;32m    407\u001b[0m         \u001b[0mself\u001b[0m\u001b[1;33m.\u001b[0m\u001b[0mestablish_colors\u001b[0m\u001b[1;33m(\u001b[0m\u001b[0mcolor\u001b[0m\u001b[1;33m,\u001b[0m \u001b[0mpalette\u001b[0m\u001b[1;33m,\u001b[0m \u001b[0msaturation\u001b[0m\u001b[1;33m)\u001b[0m\u001b[1;33m\u001b[0m\u001b[1;33m\u001b[0m\u001b[0m\n\u001b[0;32m    408\u001b[0m \u001b[1;33m\u001b[0m\u001b[0m\n",
      "\u001b[1;32m~\\AppData\\Roaming\\Python\\Python38\\site-packages\\seaborn\\categorical.py\u001b[0m in \u001b[0;36mestablish_variables\u001b[1;34m(self, x, y, hue, data, orient, order, hue_order, units)\u001b[0m\n\u001b[0;32m    154\u001b[0m \u001b[1;33m\u001b[0m\u001b[0m\n\u001b[0;32m    155\u001b[0m             \u001b[1;31m# Figure out the plotting orientation\u001b[0m\u001b[1;33m\u001b[0m\u001b[1;33m\u001b[0m\u001b[1;33m\u001b[0m\u001b[0m\n\u001b[1;32m--> 156\u001b[1;33m             orient = infer_orient(\n\u001b[0m\u001b[0;32m    157\u001b[0m                 \u001b[0mx\u001b[0m\u001b[1;33m,\u001b[0m \u001b[0my\u001b[0m\u001b[1;33m,\u001b[0m \u001b[0morient\u001b[0m\u001b[1;33m,\u001b[0m \u001b[0mrequire_numeric\u001b[0m\u001b[1;33m=\u001b[0m\u001b[0mself\u001b[0m\u001b[1;33m.\u001b[0m\u001b[0mrequire_numeric\u001b[0m\u001b[1;33m\u001b[0m\u001b[1;33m\u001b[0m\u001b[0m\n\u001b[0;32m    158\u001b[0m             )\n",
      "\u001b[1;32m~\\AppData\\Roaming\\Python\\Python38\\site-packages\\seaborn\\_core.py\u001b[0m in \u001b[0;36minfer_orient\u001b[1;34m(x, y, orient, require_numeric)\u001b[0m\n\u001b[0;32m   1343\u001b[0m     \u001b[1;32melif\u001b[0m \u001b[0mrequire_numeric\u001b[0m \u001b[1;32mand\u001b[0m \u001b[1;34m\"numeric\"\u001b[0m \u001b[1;32mnot\u001b[0m \u001b[1;32min\u001b[0m \u001b[1;33m(\u001b[0m\u001b[0mx_type\u001b[0m\u001b[1;33m,\u001b[0m \u001b[0my_type\u001b[0m\u001b[1;33m)\u001b[0m\u001b[1;33m:\u001b[0m\u001b[1;33m\u001b[0m\u001b[1;33m\u001b[0m\u001b[0m\n\u001b[0;32m   1344\u001b[0m         \u001b[0merr\u001b[0m \u001b[1;33m=\u001b[0m \u001b[1;34m\"Neither the `x` nor `y` variable appears to be numeric.\"\u001b[0m\u001b[1;33m\u001b[0m\u001b[1;33m\u001b[0m\u001b[0m\n\u001b[1;32m-> 1345\u001b[1;33m         \u001b[1;32mraise\u001b[0m \u001b[0mTypeError\u001b[0m\u001b[1;33m(\u001b[0m\u001b[0merr\u001b[0m\u001b[1;33m)\u001b[0m\u001b[1;33m\u001b[0m\u001b[1;33m\u001b[0m\u001b[0m\n\u001b[0m\u001b[0;32m   1346\u001b[0m \u001b[1;33m\u001b[0m\u001b[0m\n\u001b[0;32m   1347\u001b[0m     \u001b[1;32melse\u001b[0m\u001b[1;33m:\u001b[0m\u001b[1;33m\u001b[0m\u001b[1;33m\u001b[0m\u001b[0m\n",
      "\u001b[1;31mTypeError\u001b[0m: Neither the `x` nor `y` variable appears to be numeric."
     ]
    },
    {
     "data": {
      "image/png": "[encoded data removed]",
      "text/plain": [
       "<Figure size 432x288 with 1 Axes>"
      ]
     },
     "metadata": {
      "needs_background": "light"
     },
     "output_type": "display_data"
    }
   ],
   "source": [
    "import warnings\n",
    "warnings.simplefilter(action=\"ignore\", category=FutureWarning)\n",
    "#  Bar\n",
    "grafBar(df1.gender,df1.university[0])\n",
    "grafBar(df1.career,df1.university[0])\n",
    "grafBar(df1.age,df1.university[0])\n",
    "#  Pie\n",
    "grafPie(df1,df1.age,df1.university[0])\n",
    "grafPie(df1,df1.gender,df1.university[0])\n",
    "grafPie(df1,df1.inscmonth,df1.university[0])\n",
    "# Box\n",
    "grafBox(df1.gender,df1.age,df1.university[0])\n",
    "grafBox(df1.career,df1.age,df1.university[0])\n",
    "\n",
    "#  Location \n",
    "grafLocation(df1)"
   ]
  },
  {
   "cell_type": "code",
   "execution_count": null,
   "id": "ccda0263",
   "metadata": {},
   "outputs": [],
   "source": [
    "\n"
   ]
  },
  {
   "cell_type": "markdown",
   "id": "2e907e1c",
   "metadata": {},
   "source": [
    "# Universidad Grupo B salvador\n"
   ]
  },
  {
   "cell_type": "code",
   "execution_count": null,
   "id": "f41d6e62",
   "metadata": {},
   "outputs": [],
   "source": [
    "#  Bar\n",
    "grafBar(df2.gender,df2.university[0])\n",
    "grafBar(df2.career,df2.university[0])\n",
    "grafBar(df2.age,df2.university[0])\n",
    "#  Pie\n",
    "grafPie(df2,df2.age,df2.university[0])\n",
    "grafPie(df2,df2.gender,df2.university[0])\n",
    "grafPie(df2,df2.inscmonth,df2.university[0])\n",
    "# Box\n",
    "grafBox(df2.gender,df2.age,df2.university[0])\n",
    "grafBox(df2.career,df2.age,df2.university[0])\n",
    "\n",
    "#  Location \n",
    "grafLocation(df2)\n"
   ]
  },
  {
   "cell_type": "code",
   "execution_count": null,
   "id": "3c3dc323",
   "metadata": {},
   "outputs": [],
   "source": [
    "dfg1=pd.get_dummies(data=dfg, columns=['career'])\n",
    "dft2=pd.get_dummies(data=dft, columns=['career'])"
   ]
  },
  {
   "cell_type": "code",
   "execution_count": null,
   "id": "1131994a",
   "metadata": {},
   "outputs": [],
   "source": [
    "# dfg1"
   ]
  },
  {
   "cell_type": "code",
   "execution_count": null,
   "id": "4f8c71a8",
   "metadata": {},
   "outputs": [],
   "source": [
    "# dft2"
   ]
  },
  {
   "cell_type": "code",
   "execution_count": null,
   "id": "81f731e1",
   "metadata": {},
   "outputs": [],
   "source": [
    "correlacion1 = dfg1.corr()\n",
    "# correlacion\n",
    "correlacion1"
   ]
  },
  {
   "cell_type": "code",
   "execution_count": null,
   "id": "78b140df",
   "metadata": {},
   "outputs": [],
   "source": []
  },
  {
   "cell_type": "code",
   "execution_count": null,
   "id": "a0ef42a1",
   "metadata": {},
   "outputs": [],
   "source": [
    "correlacion[0:5]"
   ]
  },
  {
   "cell_type": "code",
   "execution_count": null,
   "id": "dcfaf463",
   "metadata": {},
   "outputs": [],
   "source": [
    "correlacion2 = dft2.corr()\n",
    "# correlacion\n",
    "correlacion2\n",
    "# sns.heatmap(correlacion[0:5],xticklabels=correlacion.columns[0:5],yticklabels=correlacion.columns[0:5],annot=True)\n",
    "# plt.show()"
   ]
  },
  {
   "cell_type": "code",
   "execution_count": null,
   "id": "8753f7e0",
   "metadata": {},
   "outputs": [],
   "source": [
    "correlacion2[0:5]"
   ]
  },
  {
   "cell_type": "code",
   "execution_count": null,
   "id": "72cf1ae3",
   "metadata": {},
   "outputs": [],
   "source": []
  },
  {
   "cell_type": "code",
   "execution_count": null,
   "id": "80dbff0e",
   "metadata": {},
   "outputs": [],
   "source": []
  },
  {
   "cell_type": "code",
   "execution_count": null,
   "id": "47b32000",
   "metadata": {},
   "outputs": [],
   "source": []
  },
  {
   "cell_type": "code",
   "execution_count": null,
   "id": "b8ee6911",
   "metadata": {},
   "outputs": [],
   "source": []
  },
  {
   "cell_type": "code",
   "execution_count": null,
   "id": "69744bbb",
   "metadata": {},
   "outputs": [],
   "source": []
  },
  {
   "cell_type": "code",
   "execution_count": null,
   "id": "d8f63f8d",
   "metadata": {},
   "outputs": [],
   "source": []
  },
  {
   "cell_type": "code",
   "execution_count": null,
   "id": "c2d2937a",
   "metadata": {},
   "outputs": [],
   "source": [
    "grafBar(df1.gender,df1.university[0])\n",
    "grafBar(df2.gender,df2.university[0])"
   ]
  },
  {
   "cell_type": "code",
   "execution_count": null,
   "id": "0c6f8bdf",
   "metadata": {},
   "outputs": [],
   "source": []
  },
  {
   "cell_type": "code",
   "execution_count": null,
   "id": "b3e4945a",
   "metadata": {},
   "outputs": [],
   "source": [
    "grafBox(df1.gender,df1.age,df1.university[0])\n",
    "grafBox(df2.gender,df2.age,df2.university[0])"
   ]
  },
  {
   "cell_type": "code",
   "execution_count": null,
   "id": "a0cc728f",
   "metadata": {},
   "outputs": [],
   "source": [
    "grafPie(df1,df1.gender,df1.university[0])\n",
    "grafPie(df2,df2.gender,df2.university[0])\n",
    "\n",
    "\n",
    "\n"
   ]
  },
  {
   "cell_type": "code",
   "execution_count": null,
   "id": "813821c4",
   "metadata": {},
   "outputs": [],
   "source": [
    "# total_precio = df2.groupby(df2.gender).count()\n",
    "# print(total_precio)\n",
    "# #     etiquetas = dfg.unique()\n",
    "# # l=list(total_precio['university'].index.sort_values())\n",
    "# label =total_precio['age'].sort_values()\n",
    "\n",
    "# label.index\n",
    "# total_precio.age\n",
    "# # total_precio['age'].index\n"
   ]
  },
  {
   "cell_type": "code",
   "execution_count": null,
   "id": "efd7743e",
   "metadata": {},
   "outputs": [],
   "source": [
    "co = total_precio.columns[0]\n",
    "\n",
    "\n",
    "total_precio[co]"
   ]
  },
  {
   "cell_type": "code",
   "execution_count": null,
   "id": "0777de8d",
   "metadata": {},
   "outputs": [],
   "source": [
    "total_precio = df1.groupby(df1.gender).count()\n",
    "\n",
    "colors = sns.color_palette('pastel')[0:6]\n",
    "# plt.pie(total_precio.columns[0],labels=total_precio.index, colors = colors,\n",
    "# autopct='%.0f%%')\n",
    "# # plt.title(f\"Inscription by {dfg.name}: {location}\")\n",
    "# plt.show()"
   ]
  },
  {
   "cell_type": "code",
   "execution_count": null,
   "id": "4904292f",
   "metadata": {},
   "outputs": [],
   "source": [
    "total_precio.columns[0]\n"
   ]
  },
  {
   "cell_type": "code",
   "execution_count": null,
   "id": "84b7fd47",
   "metadata": {},
   "outputs": [],
   "source": [
    "904/len(df1)*100\n",
    "\n",
    "df1.gender.unique()"
   ]
  },
  {
   "cell_type": "code",
   "execution_count": null,
   "id": "b70b601c",
   "metadata": {},
   "outputs": [],
   "source": [
    "grafPie(df1,df1.inscmonth,df1.university[0])\n",
    "grafPie(df2,df2.inscmonth,df2.university[0])"
   ]
  },
  {
   "cell_type": "code",
   "execution_count": null,
   "id": "a64ec8bc",
   "metadata": {},
   "outputs": [],
   "source": [
    "grafPie(df1,df1.age,df1.university[0])\n",
    "grafPie(df2,df2.age,df2.university[0])"
   ]
  },
  {
   "cell_type": "code",
   "execution_count": null,
   "id": "ce384c4f",
   "metadata": {},
   "outputs": [],
   "source": []
  },
  {
   "cell_type": "code",
   "execution_count": null,
   "id": "cb71a7d7",
   "metadata": {},
   "outputs": [],
   "source": []
  },
  {
   "cell_type": "code",
   "execution_count": null,
   "id": "25379fb1",
   "metadata": {},
   "outputs": [],
   "source": [
    "grafBox(df1.career,df1.age,df1.university[0])\n",
    "grafBox(df2.career,df2.age,df2.university[0])\n"
   ]
  },
  {
   "cell_type": "code",
   "execution_count": null,
   "id": "88cf4a7a",
   "metadata": {},
   "outputs": [],
   "source": []
  },
  {
   "cell_type": "code",
   "execution_count": null,
   "id": "4aa8f82a",
   "metadata": {},
   "outputs": [],
   "source": [
    "grafBar(df1.career,df1.university[0])\n",
    "grafBar(df2.career,df2.university[0])"
   ]
  },
  {
   "cell_type": "code",
   "execution_count": null,
   "id": "67043e5b",
   "metadata": {},
   "outputs": [],
   "source": [
    "grafBar(df1.age,df1.university[0])\n",
    "grafBar(df2.age,df2.university[0])"
   ]
  },
  {
   "cell_type": "code",
   "execution_count": null,
   "id": "ae52cfc5",
   "metadata": {},
   "outputs": [],
   "source": [
    "graf3Rel(df1,df1.career,df1.age,df1.gender)\n",
    "graf3Rel(df2,df2.career,df2.age,df2.gender)"
   ]
  },
  {
   "cell_type": "code",
   "execution_count": null,
   "id": "db6b1704",
   "metadata": {},
   "outputs": [],
   "source": [
    "grafLocation(df1)\n",
    "\n",
    "\n"
   ]
  },
  {
   "cell_type": "code",
   "execution_count": null,
   "id": "8f18aebc",
   "metadata": {},
   "outputs": [],
   "source": [
    "df1.university.unique()[0]"
   ]
  },
  {
   "cell_type": "code",
   "execution_count": null,
   "id": "ec149ead",
   "metadata": {},
   "outputs": [],
   "source": [
    "grafLocation(df2)"
   ]
  },
  {
   "cell_type": "code",
   "execution_count": null,
   "id": "8d085203",
   "metadata": {},
   "outputs": [],
   "source": [
    "dfg1.describe()"
   ]
  },
  {
   "cell_type": "code",
   "execution_count": null,
   "id": "e30911e0",
   "metadata": {},
   "outputs": [],
   "source": [
    "dft2.describe()"
   ]
  },
  {
   "cell_type": "code",
   "execution_count": null,
   "id": "65adf584",
   "metadata": {},
   "outputs": [],
   "source": [
    "df1.career.groupby([df1.career,df1.age,df1.gender]).describe()\n",
    "\n",
    "\n"
   ]
  },
  {
   "cell_type": "code",
   "execution_count": null,
   "id": "6237473f",
   "metadata": {},
   "outputs": [],
   "source": [
    "df2.career.groupby([df2.career,df2.age,df2.gender]).describe()"
   ]
  },
  {
   "cell_type": "code",
   "execution_count": null,
   "id": "85952af2",
   "metadata": {},
   "outputs": [],
   "source": [
    "dif = len(df2)-len(df1)\n",
    "dif"
   ]
  },
  {
   "cell_type": "code",
   "execution_count": null,
   "id": "2abb3d0a",
   "metadata": {},
   "outputs": [],
   "source": [
    "dif/len(df2)*100"
   ]
  },
  {
   "cell_type": "code",
   "execution_count": null,
   "id": "05e675f2",
   "metadata": {},
   "outputs": [],
   "source": [
    "ma=df1.university.groupby(df1.age).describe()\n",
    "\n",
    "# dat['count'].unique()\n",
    "f =ma['count'] == ma['count'].max()\n",
    "name_L=ma[f].index[0]\n",
    "# loca =df1.location == ma[f].index[0]\n",
    "name_L\n",
    "ma\n",
    "print(df1.university[0])\n",
    "print(name_L, ma['count'].max())\n"
   ]
  },
  {
   "cell_type": "code",
   "execution_count": null,
   "id": "9e50c6c6",
   "metadata": {},
   "outputs": [],
   "source": [
    "ma"
   ]
  },
  {
   "cell_type": "code",
   "execution_count": null,
   "id": "2727806d",
   "metadata": {},
   "outputs": [],
   "source": [
    "EdT1=ma.sum()\n",
    "ma\n",
    "ma[ma.index > 27].sum()\n",
    "ma[ma.index > 27].sum()[0]/ma.sum()[0]*100\n",
    "\n",
    "# len(df1)\n"
   ]
  },
  {
   "cell_type": "code",
   "execution_count": null,
   "id": "c56131b0",
   "metadata": {},
   "outputs": [],
   "source": [
    "ma=df2.university.groupby(df2.age).describe()\n",
    "\n",
    "# dat['count'].unique()\n",
    "f =ma['count'] == ma['count'].max()\n",
    "name_L=ma[f].index[0]\n",
    "# loca =df1.location == ma[f].index[0]\n",
    "name_L\n",
    "print(df2.university[0])\n",
    "print(name_L, ma['count'].max())"
   ]
  },
  {
   "cell_type": "code",
   "execution_count": null,
   "id": "e55edee8",
   "metadata": {},
   "outputs": [],
   "source": [
    "EdadT2=ma.sum()\n",
    "ma"
   ]
  },
  {
   "cell_type": "code",
   "execution_count": null,
   "id": "0ada37ea",
   "metadata": {},
   "outputs": [],
   "source": [
    "ma[ma.index > 27].sum()[0]/ma.sum()[0]*100"
   ]
  },
  {
   "cell_type": "code",
   "execution_count": null,
   "id": "60284dc0",
   "metadata": {},
   "outputs": [],
   "source": [
    "# ma=df1.university.groupby(df1.location).describe()"
   ]
  },
  {
   "cell_type": "code",
   "execution_count": null,
   "id": "7fe7a293",
   "metadata": {},
   "outputs": [],
   "source": []
  },
  {
   "cell_type": "code",
   "execution_count": null,
   "id": "6cbf6573",
   "metadata": {},
   "outputs": [],
   "source": [
    "df2.university.groupby(df2.career).count().max()"
   ]
  },
  {
   "cell_type": "markdown",
   "id": "c3bbb734",
   "metadata": {},
   "source": [
    "# Conclusión\n",
    "\n",
    "- La mayor parte de la población inscrita entre 2020-09-01 e inicios 2021-02-01, es de mujeres con un 52% para la universidad del Salvador, a diferencia de la  universidad comanhue donde su mayor población es de hombres con un 51%, la universidad del salvador solo tiene 73 personas inscritas mas que la universidad de comenhue equivalente a un 4 % aproximadamente, \n",
    "- La edad promedio de los inscritos se encuentra entre los 27 y 28 años, aunque la mayor cantidad de inscritos en el periodo de tiempo establecido tienen la edad de 23 años para ambas universidades, la edad minima esta en 17 años y la maxima en 40 años, además la universidad de comenhue tiene su mayor población mayor a 27 años con un valor del 50% a diferencia de la universidad del salvador con un 40.5 % , por tanto la universidad del salvador tiene personas más jovenes.\n",
    "- La mayor población que provienen de una misma localidad es de 12 para la universidad de comahue para la localidad de 25 de mayo, y de 10 para la universidad del Salvador para la localidad agua colorada, al realizar las gráficas realizadas al dataset general, se observo que el mismo comportamiento  para el genero de inscripciones tomando la tendencia general de los datos, la elección de carrera presenta gran variedad por localidad ,edad, y genero como se observa en el grafíco que relaciona la edad, carrera y genero."
   ]
  },
  {
   "cell_type": "code",
   "execution_count": null,
   "id": "08c53a16",
   "metadata": {},
   "outputs": [],
   "source": []
  },
  {
   "cell_type": "code",
   "execution_count": null,
   "id": "adc1a753",
   "metadata": {},
   "outputs": [],
   "source": []
  },
  {
   "cell_type": "code",
   "execution_count": null,
   "id": "67a87854",
   "metadata": {},
   "outputs": [],
   "source": []
  },
  {
   "cell_type": "code",
   "execution_count": null,
   "id": "ee86c7ab",
   "metadata": {},
   "outputs": [],
   "source": []
  },
  {
   "cell_type": "code",
   "execution_count": null,
   "id": "24c79477",
   "metadata": {},
   "outputs": [],
   "source": []
  }
 ],
 "metadata": {
  "kernelspec": {
   "display_name": "Python 3",
   "language": "python",
   "name": "python3"
  },
  "language_info": {
   "codemirror_mode": {
    "name": "ipython",
    "version": 3
   },
   "file_extension": ".py",
   "mimetype": "text/x-python",
   "name": "python",
   "nbconvert_exporter": "python",
   "pygments_lexer": "ipython3",
   "version": "3.8.8"
  },
  "vscode": {
   "interpreter": {
    "hash": "ff0d91300876931207232d01add3156fa7c8214350996c757a3c6cebc4b3b5d5"
   }
  }
 },
 "nbformat": 4,
 "nbformat_minor": 5
}
